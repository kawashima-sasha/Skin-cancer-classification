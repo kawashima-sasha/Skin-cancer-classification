{
  "cells": [
    {
      "cell_type": "code",
      "source": [
        "from google.colab import drive\n",
        "drive.mount('/content/drive')"
      ],
      "metadata": {
        "colab": {
          "base_uri": "https://localhost:8080/"
        },
        "id": "81wfnYIo9gvO",
        "outputId": "c563c811-eece-476f-bdf9-ee2116b131e7"
      },
      "execution_count": 1,
      "outputs": [
        {
          "output_type": "stream",
          "name": "stdout",
          "text": [
            "Drive already mounted at /content/drive; to attempt to forcibly remount, call drive.mount(\"/content/drive\", force_remount=True).\n"
          ]
        }
      ]
    },
    {
      "cell_type": "code",
      "source": [
        "DATA_PATH = '/content/drive/MyDrive/Machine Learning and Pattern Recognition Project'\n",
        "IMAGES_PATH_1 = DATA_PATH + '/HAM10000_images_part_1'\n",
        "IMAGES_PATH_2 = DATA_PATH + '/HAM10000_images_part_2'\n",
        "METADATA_PATH = DATA_PATH + '/HAM10000_metadata.csv'"
      ],
      "metadata": {
        "id": "A3pSerRJ9jgu"
      },
      "execution_count": 2,
      "outputs": []
    },
    {
      "cell_type": "markdown",
      "metadata": {
        "papermill": {
          "duration": 0.031962,
          "end_time": "2021-06-08T00:26:32.731649",
          "exception": false,
          "start_time": "2021-06-08T00:26:32.699687",
          "status": "completed"
        },
        "tags": [],
        "id": "IZ9fMR0k39cU"
      },
      "source": [
        "# 2. Libraries"
      ]
    },
    {
      "cell_type": "markdown",
      "metadata": {
        "papermill": {
          "duration": 0.030999,
          "end_time": "2021-06-08T00:26:32.794242",
          "exception": false,
          "start_time": "2021-06-08T00:26:32.763243",
          "status": "completed"
        },
        "tags": [],
        "id": "NUvxxmUP39cV"
      },
      "source": [
        "# 2.1 Load Required Libraries"
      ]
    },
    {
      "cell_type": "code",
      "execution_count": 3,
      "metadata": {
        "execution": {
          "iopub.execute_input": "2022-09-10T12:35:56.927436Z",
          "iopub.status.busy": "2022-09-10T12:35:56.926941Z",
          "iopub.status.idle": "2022-09-10T12:35:58.471168Z",
          "shell.execute_reply": "2022-09-10T12:35:58.469659Z",
          "shell.execute_reply.started": "2022-09-10T12:35:56.927324Z"
        },
        "papermill": {
          "duration": 0.967801,
          "end_time": "2021-06-08T00:26:33.79371",
          "exception": false,
          "start_time": "2021-06-08T00:26:32.825909",
          "status": "completed"
        },
        "tags": [],
        "id": "tSp_4Nbv39cW"
      },
      "outputs": [],
      "source": [
        "import os\n",
        "os.environ['TF_CPP_MIN_LOG_LEVEL'] = '2'\n",
        "\n",
        "import numpy as np\n",
        "import pandas as pd\n",
        "import matplotlib.pyplot as plt\n",
        "%matplotlib inline\n",
        "import seaborn as sns\n",
        "from glob import glob\n",
        "\n",
        "import PIL\n",
        "from PIL import Image\n",
        "\n",
        "from sklearn.metrics import confusion_matrix, classification_report\n",
        "from sklearn.model_selection import train_test_split\n",
        "\n",
        "from warnings import filterwarnings\n",
        "filterwarnings('ignore')\n",
        "\n",
        "import tensorflow as tf\n",
        "\n",
        "tf.get_logger().setLevel('ERROR')\n",
        "\n",
        "SEED=123\n",
        "np.random.seed(SEED)"
      ]
    },
    {
      "cell_type": "markdown",
      "metadata": {
        "papermill": {
          "duration": 0.031543,
          "end_time": "2021-06-08T00:26:38.753688",
          "exception": false,
          "start_time": "2021-06-08T00:26:38.722145",
          "status": "completed"
        },
        "tags": [],
        "id": "61q7AysS39cZ"
      },
      "source": [
        "# 3. Configs"
      ]
    },
    {
      "cell_type": "code",
      "execution_count": 5,
      "metadata": {
        "execution": {
          "iopub.execute_input": "2022-09-10T12:36:10.680095Z",
          "iopub.status.busy": "2022-09-10T12:36:10.679317Z",
          "iopub.status.idle": "2022-09-10T12:36:10.688854Z",
          "shell.execute_reply": "2022-09-10T12:36:10.687156Z",
          "shell.execute_reply.started": "2022-09-10T12:36:10.680058Z"
        },
        "papermill": {
          "duration": 0.040717,
          "end_time": "2021-06-08T00:26:38.826354",
          "exception": false,
          "start_time": "2021-06-08T00:26:38.785637",
          "status": "completed"
        },
        "tags": [],
        "id": "wXe4XbQc39ca"
      },
      "outputs": [],
      "source": [
        "CFG = dict(\n",
        "    batch_size            =  20,   # 8; 16; 32; 64; bigger batch size => moemry allocation issue\n",
        "    epochs                =  30,   # 5; 10; 20;\n",
        "    last_trainable_layers =   0,\n",
        "    verbose               =   1,   # 0; 1\n",
        "    fontsize              =  14,\n",
        "\n",
        "    # Images sizes\n",
        "    img_width             = 150,   # 600 Original\n",
        "    img_height            = 112,   # 450 Original\n",
        "\n",
        "    # Images augs\n",
        "    ROTATION_RANGE        =  90.0,\n",
        "    ZOOM_RANGE            =   0.1,\n",
        "    HSHIFT_RANGE          =   0.1,\n",
        "    WSHIFT_RANGE          =   0.1,\n",
        "    HFLIP                 = False,\n",
        "    VFLIP                 = False,\n",
        "\n",
        "    # Postprocessing\n",
        "    stopper_patience      =  10,   # 0.01; 0.05; 0.1; 0.2;\n",
        "    run_functions_eagerly = False\n",
        ")\n"
      ]
    },
    {
      "cell_type": "markdown",
      "metadata": {
        "execution": {
          "iopub.execute_input": "2021-06-05T23:43:09.019279Z",
          "iopub.status.busy": "2021-06-05T23:43:09.018882Z",
          "iopub.status.idle": "2021-06-05T23:43:09.761092Z",
          "shell.execute_reply": "2021-06-05T23:43:09.759959Z",
          "shell.execute_reply.started": "2021-06-05T23:43:09.019246Z"
        },
        "papermill": {
          "duration": 0.031376,
          "end_time": "2021-06-08T00:26:38.888938",
          "exception": false,
          "start_time": "2021-06-08T00:26:38.857562",
          "status": "completed"
        },
        "tags": [],
        "id": "KsBIUXyJ39ca"
      },
      "source": [
        "# 4. Paths"
      ]
    },
    {
      "cell_type": "code",
      "execution_count": 6,
      "metadata": {
        "execution": {
          "iopub.execute_input": "2022-09-10T12:36:14.15668Z",
          "iopub.status.busy": "2022-09-10T12:36:14.155978Z",
          "iopub.status.idle": "2022-09-10T12:36:14.963452Z",
          "shell.execute_reply": "2022-09-10T12:36:14.962048Z",
          "shell.execute_reply.started": "2022-09-10T12:36:14.15663Z"
        },
        "papermill": {
          "duration": 0.038097,
          "end_time": "2021-06-08T00:26:39.154751",
          "exception": false,
          "start_time": "2021-06-08T00:26:39.116654",
          "status": "completed"
        },
        "tags": [],
        "id": "r7jz-yYL39ca"
      },
      "outputs": [],
      "source": [
        "base_skin_dir = DATA_PATH\n",
        "imageid_path_dict = {os.path.splitext(os.path.basename(x))[0]: x for x in glob(os.path.join(base_skin_dir, '*','*.jpg'))}"
      ]
    },
    {
      "source": [
        "print(\"First 5 items in imageid_path_dict:\")\n",
        "for i, (image_id, image_path) in enumerate(imageid_path_dict.items()):\n",
        "    if i < 5:\n",
        "        print(f\"Image ID: {image_id}, Path: {image_path}\")\n",
        "    else:\n",
        "        break\n",
        "\n",
        "if not imageid_path_dict:\n",
        "    print(\"\\nThe imageid_path_dict is empty. No image files were found matching the specified pattern.\")\n",
        "else:\n",
        "    print(\"\\nSuccessfully created imageid_path_dict with\", len(imageid_path_dict), \"items.\")"
      ],
      "cell_type": "code",
      "metadata": {
        "colab": {
          "base_uri": "https://localhost:8080/"
        },
        "id": "QfUC56aYINYe",
        "outputId": "7bf1c694-48dd-4eee-915e-d4209ab6f109"
      },
      "execution_count": 7,
      "outputs": [
        {
          "output_type": "stream",
          "name": "stdout",
          "text": [
            "First 5 items in imageid_path_dict:\n",
            "Image ID: ISIC_0033361, Path: /content/drive/MyDrive/Machine Learning and Pattern Recognition Project/HAM10000_images_part_2/ISIC_0033361.jpg\n",
            "Image ID: ISIC_0033320, Path: /content/drive/MyDrive/Machine Learning and Pattern Recognition Project/HAM10000_images_part_2/ISIC_0033320.jpg\n",
            "Image ID: ISIC_0033330, Path: /content/drive/MyDrive/Machine Learning and Pattern Recognition Project/HAM10000_images_part_2/ISIC_0033330.jpg\n",
            "Image ID: ISIC_0033371, Path: /content/drive/MyDrive/Machine Learning and Pattern Recognition Project/HAM10000_images_part_2/ISIC_0033371.jpg\n",
            "Image ID: ISIC_0033312, Path: /content/drive/MyDrive/Machine Learning and Pattern Recognition Project/HAM10000_images_part_2/ISIC_0033312.jpg\n",
            "\n",
            "Successfully created imageid_path_dict with 10015 items.\n"
          ]
        }
      ]
    },
    {
      "cell_type": "markdown",
      "metadata": {
        "papermill": {
          "duration": 0.031262,
          "end_time": "2021-06-08T00:26:39.353478",
          "exception": false,
          "start_time": "2021-06-08T00:26:39.322216",
          "status": "completed"
        },
        "tags": [],
        "id": "2lxlTdwY39ca"
      },
      "source": [
        "# 5. Dataset\n",
        "# 5.1 Description"
      ]
    },
    {
      "cell_type": "markdown",
      "metadata": {
        "papermill": {
          "duration": 0.031351,
          "end_time": "2021-06-08T00:26:39.416996",
          "exception": false,
          "start_time": "2021-06-08T00:26:39.385645",
          "status": "completed"
        },
        "tags": [],
        "id": "noZPpZ5W39ca"
      },
      "source": [
        "The data set contains the following diseases:  \n",
        "- Actinic Keratosis\n",
        "- Basal Cell Carcinoma\n",
        "- Dermatofibroma\n",
        "- Melanoma\n",
        "- Nevus\n",
        "- Pigmented Benign Keratosis\n",
        "- Vascular Lesion"
      ]
    },
    {
      "cell_type": "code",
      "execution_count": 8,
      "metadata": {
        "execution": {
          "iopub.execute_input": "2022-09-10T12:36:18.816288Z",
          "iopub.status.busy": "2022-09-10T12:36:18.815814Z",
          "iopub.status.idle": "2022-09-10T12:36:39.726106Z",
          "shell.execute_reply": "2022-09-10T12:36:39.724421Z",
          "shell.execute_reply.started": "2022-09-10T12:36:18.816254Z"
        },
        "colab": {
          "base_uri": "https://localhost:8080/",
          "height": 206
        },
        "id": "bPN4Hfmk39cb",
        "outputId": "6c2db334-647c-4123-86d5-db4accd41c38"
      },
      "outputs": [
        {
          "output_type": "execute_result",
          "data": {
            "text/plain": [
              "     lesion_id      image_id   dx dx_type   age   sex localization\n",
              "0  HAM_0000118  ISIC_0027419  bkl   histo  80.0  male        scalp\n",
              "1  HAM_0000118  ISIC_0025030  bkl   histo  80.0  male        scalp\n",
              "2  HAM_0002730  ISIC_0026769  bkl   histo  80.0  male        scalp\n",
              "3  HAM_0002730  ISIC_0025661  bkl   histo  80.0  male        scalp\n",
              "4  HAM_0001466  ISIC_0031633  bkl   histo  75.0  male          ear"
            ],
            "text/html": [
              "\n",
              "  <div id=\"df-257e7f29-d21d-494e-beb3-1b19bbb63329\" class=\"colab-df-container\">\n",
              "    <div>\n",
              "<style scoped>\n",
              "    .dataframe tbody tr th:only-of-type {\n",
              "        vertical-align: middle;\n",
              "    }\n",
              "\n",
              "    .dataframe tbody tr th {\n",
              "        vertical-align: top;\n",
              "    }\n",
              "\n",
              "    .dataframe thead th {\n",
              "        text-align: right;\n",
              "    }\n",
              "</style>\n",
              "<table border=\"1\" class=\"dataframe\">\n",
              "  <thead>\n",
              "    <tr style=\"text-align: right;\">\n",
              "      <th></th>\n",
              "      <th>lesion_id</th>\n",
              "      <th>image_id</th>\n",
              "      <th>dx</th>\n",
              "      <th>dx_type</th>\n",
              "      <th>age</th>\n",
              "      <th>sex</th>\n",
              "      <th>localization</th>\n",
              "    </tr>\n",
              "  </thead>\n",
              "  <tbody>\n",
              "    <tr>\n",
              "      <th>0</th>\n",
              "      <td>HAM_0000118</td>\n",
              "      <td>ISIC_0027419</td>\n",
              "      <td>bkl</td>\n",
              "      <td>histo</td>\n",
              "      <td>80.0</td>\n",
              "      <td>male</td>\n",
              "      <td>scalp</td>\n",
              "    </tr>\n",
              "    <tr>\n",
              "      <th>1</th>\n",
              "      <td>HAM_0000118</td>\n",
              "      <td>ISIC_0025030</td>\n",
              "      <td>bkl</td>\n",
              "      <td>histo</td>\n",
              "      <td>80.0</td>\n",
              "      <td>male</td>\n",
              "      <td>scalp</td>\n",
              "    </tr>\n",
              "    <tr>\n",
              "      <th>2</th>\n",
              "      <td>HAM_0002730</td>\n",
              "      <td>ISIC_0026769</td>\n",
              "      <td>bkl</td>\n",
              "      <td>histo</td>\n",
              "      <td>80.0</td>\n",
              "      <td>male</td>\n",
              "      <td>scalp</td>\n",
              "    </tr>\n",
              "    <tr>\n",
              "      <th>3</th>\n",
              "      <td>HAM_0002730</td>\n",
              "      <td>ISIC_0025661</td>\n",
              "      <td>bkl</td>\n",
              "      <td>histo</td>\n",
              "      <td>80.0</td>\n",
              "      <td>male</td>\n",
              "      <td>scalp</td>\n",
              "    </tr>\n",
              "    <tr>\n",
              "      <th>4</th>\n",
              "      <td>HAM_0001466</td>\n",
              "      <td>ISIC_0031633</td>\n",
              "      <td>bkl</td>\n",
              "      <td>histo</td>\n",
              "      <td>75.0</td>\n",
              "      <td>male</td>\n",
              "      <td>ear</td>\n",
              "    </tr>\n",
              "  </tbody>\n",
              "</table>\n",
              "</div>\n",
              "    <div class=\"colab-df-buttons\">\n",
              "\n",
              "  <div class=\"colab-df-container\">\n",
              "    <button class=\"colab-df-convert\" onclick=\"convertToInteractive('df-257e7f29-d21d-494e-beb3-1b19bbb63329')\"\n",
              "            title=\"Convert this dataframe to an interactive table.\"\n",
              "            style=\"display:none;\">\n",
              "\n",
              "  <svg xmlns=\"http://www.w3.org/2000/svg\" height=\"24px\" viewBox=\"0 -960 960 960\">\n",
              "    <path d=\"M120-120v-720h720v720H120Zm60-500h600v-160H180v160Zm220 220h160v-160H400v160Zm0 220h160v-160H400v160ZM180-400h160v-160H180v160Zm440 0h160v-160H620v160ZM180-180h160v-160H180v160Zm440 0h160v-160H620v160Z\"/>\n",
              "  </svg>\n",
              "    </button>\n",
              "\n",
              "  <style>\n",
              "    .colab-df-container {\n",
              "      display:flex;\n",
              "      gap: 12px;\n",
              "    }\n",
              "\n",
              "    .colab-df-convert {\n",
              "      background-color: #E8F0FE;\n",
              "      border: none;\n",
              "      border-radius: 50%;\n",
              "      cursor: pointer;\n",
              "      display: none;\n",
              "      fill: #1967D2;\n",
              "      height: 32px;\n",
              "      padding: 0 0 0 0;\n",
              "      width: 32px;\n",
              "    }\n",
              "\n",
              "    .colab-df-convert:hover {\n",
              "      background-color: #E2EBFA;\n",
              "      box-shadow: 0px 1px 2px rgba(60, 64, 67, 0.3), 0px 1px 3px 1px rgba(60, 64, 67, 0.15);\n",
              "      fill: #174EA6;\n",
              "    }\n",
              "\n",
              "    .colab-df-buttons div {\n",
              "      margin-bottom: 4px;\n",
              "    }\n",
              "\n",
              "    [theme=dark] .colab-df-convert {\n",
              "      background-color: #3B4455;\n",
              "      fill: #D2E3FC;\n",
              "    }\n",
              "\n",
              "    [theme=dark] .colab-df-convert:hover {\n",
              "      background-color: #434B5C;\n",
              "      box-shadow: 0px 1px 3px 1px rgba(0, 0, 0, 0.15);\n",
              "      filter: drop-shadow(0px 1px 2px rgba(0, 0, 0, 0.3));\n",
              "      fill: #FFFFFF;\n",
              "    }\n",
              "  </style>\n",
              "\n",
              "    <script>\n",
              "      const buttonEl =\n",
              "        document.querySelector('#df-257e7f29-d21d-494e-beb3-1b19bbb63329 button.colab-df-convert');\n",
              "      buttonEl.style.display =\n",
              "        google.colab.kernel.accessAllowed ? 'block' : 'none';\n",
              "\n",
              "      async function convertToInteractive(key) {\n",
              "        const element = document.querySelector('#df-257e7f29-d21d-494e-beb3-1b19bbb63329');\n",
              "        const dataTable =\n",
              "          await google.colab.kernel.invokeFunction('convertToInteractive',\n",
              "                                                    [key], {});\n",
              "        if (!dataTable) return;\n",
              "\n",
              "        const docLinkHtml = 'Like what you see? Visit the ' +\n",
              "          '<a target=\"_blank\" href=https://colab.research.google.com/notebooks/data_table.ipynb>data table notebook</a>'\n",
              "          + ' to learn more about interactive tables.';\n",
              "        element.innerHTML = '';\n",
              "        dataTable['output_type'] = 'display_data';\n",
              "        await google.colab.output.renderOutput(dataTable, element);\n",
              "        const docLink = document.createElement('div');\n",
              "        docLink.innerHTML = docLinkHtml;\n",
              "        element.appendChild(docLink);\n",
              "      }\n",
              "    </script>\n",
              "  </div>\n",
              "\n",
              "\n",
              "    <div id=\"df-c59eda09-0b5e-414e-b250-eb57594f54f4\">\n",
              "      <button class=\"colab-df-quickchart\" onclick=\"quickchart('df-c59eda09-0b5e-414e-b250-eb57594f54f4')\"\n",
              "                title=\"Suggest charts\"\n",
              "                style=\"display:none;\">\n",
              "\n",
              "<svg xmlns=\"http://www.w3.org/2000/svg\" height=\"24px\"viewBox=\"0 0 24 24\"\n",
              "     width=\"24px\">\n",
              "    <g>\n",
              "        <path d=\"M19 3H5c-1.1 0-2 .9-2 2v14c0 1.1.9 2 2 2h14c1.1 0 2-.9 2-2V5c0-1.1-.9-2-2-2zM9 17H7v-7h2v7zm4 0h-2V7h2v10zm4 0h-2v-4h2v4z\"/>\n",
              "    </g>\n",
              "</svg>\n",
              "      </button>\n",
              "\n",
              "<style>\n",
              "  .colab-df-quickchart {\n",
              "      --bg-color: #E8F0FE;\n",
              "      --fill-color: #1967D2;\n",
              "      --hover-bg-color: #E2EBFA;\n",
              "      --hover-fill-color: #174EA6;\n",
              "      --disabled-fill-color: #AAA;\n",
              "      --disabled-bg-color: #DDD;\n",
              "  }\n",
              "\n",
              "  [theme=dark] .colab-df-quickchart {\n",
              "      --bg-color: #3B4455;\n",
              "      --fill-color: #D2E3FC;\n",
              "      --hover-bg-color: #434B5C;\n",
              "      --hover-fill-color: #FFFFFF;\n",
              "      --disabled-bg-color: #3B4455;\n",
              "      --disabled-fill-color: #666;\n",
              "  }\n",
              "\n",
              "  .colab-df-quickchart {\n",
              "    background-color: var(--bg-color);\n",
              "    border: none;\n",
              "    border-radius: 50%;\n",
              "    cursor: pointer;\n",
              "    display: none;\n",
              "    fill: var(--fill-color);\n",
              "    height: 32px;\n",
              "    padding: 0;\n",
              "    width: 32px;\n",
              "  }\n",
              "\n",
              "  .colab-df-quickchart:hover {\n",
              "    background-color: var(--hover-bg-color);\n",
              "    box-shadow: 0 1px 2px rgba(60, 64, 67, 0.3), 0 1px 3px 1px rgba(60, 64, 67, 0.15);\n",
              "    fill: var(--button-hover-fill-color);\n",
              "  }\n",
              "\n",
              "  .colab-df-quickchart-complete:disabled,\n",
              "  .colab-df-quickchart-complete:disabled:hover {\n",
              "    background-color: var(--disabled-bg-color);\n",
              "    fill: var(--disabled-fill-color);\n",
              "    box-shadow: none;\n",
              "  }\n",
              "\n",
              "  .colab-df-spinner {\n",
              "    border: 2px solid var(--fill-color);\n",
              "    border-color: transparent;\n",
              "    border-bottom-color: var(--fill-color);\n",
              "    animation:\n",
              "      spin 1s steps(1) infinite;\n",
              "  }\n",
              "\n",
              "  @keyframes spin {\n",
              "    0% {\n",
              "      border-color: transparent;\n",
              "      border-bottom-color: var(--fill-color);\n",
              "      border-left-color: var(--fill-color);\n",
              "    }\n",
              "    20% {\n",
              "      border-color: transparent;\n",
              "      border-left-color: var(--fill-color);\n",
              "      border-top-color: var(--fill-color);\n",
              "    }\n",
              "    30% {\n",
              "      border-color: transparent;\n",
              "      border-left-color: var(--fill-color);\n",
              "      border-top-color: var(--fill-color);\n",
              "      border-right-color: var(--fill-color);\n",
              "    }\n",
              "    40% {\n",
              "      border-color: transparent;\n",
              "      border-right-color: var(--fill-color);\n",
              "      border-top-color: var(--fill-color);\n",
              "    }\n",
              "    60% {\n",
              "      border-color: transparent;\n",
              "      border-right-color: var(--fill-color);\n",
              "    }\n",
              "    80% {\n",
              "      border-color: transparent;\n",
              "      border-right-color: var(--fill-color);\n",
              "      border-bottom-color: var(--fill-color);\n",
              "    }\n",
              "    90% {\n",
              "      border-color: transparent;\n",
              "      border-bottom-color: var(--fill-color);\n",
              "    }\n",
              "  }\n",
              "</style>\n",
              "\n",
              "      <script>\n",
              "        async function quickchart(key) {\n",
              "          const quickchartButtonEl =\n",
              "            document.querySelector('#' + key + ' button');\n",
              "          quickchartButtonEl.disabled = true;  // To prevent multiple clicks.\n",
              "          quickchartButtonEl.classList.add('colab-df-spinner');\n",
              "          try {\n",
              "            const charts = await google.colab.kernel.invokeFunction(\n",
              "                'suggestCharts', [key], {});\n",
              "          } catch (error) {\n",
              "            console.error('Error during call to suggestCharts:', error);\n",
              "          }\n",
              "          quickchartButtonEl.classList.remove('colab-df-spinner');\n",
              "          quickchartButtonEl.classList.add('colab-df-quickchart-complete');\n",
              "        }\n",
              "        (() => {\n",
              "          let quickchartButtonEl =\n",
              "            document.querySelector('#df-c59eda09-0b5e-414e-b250-eb57594f54f4 button');\n",
              "          quickchartButtonEl.style.display =\n",
              "            google.colab.kernel.accessAllowed ? 'block' : 'none';\n",
              "        })();\n",
              "      </script>\n",
              "    </div>\n",
              "\n",
              "    </div>\n",
              "  </div>\n"
            ],
            "application/vnd.google.colaboratory.intrinsic+json": {
              "type": "dataframe",
              "variable_name": "df",
              "summary": "{\n  \"name\": \"df\",\n  \"rows\": 10015,\n  \"fields\": [\n    {\n      \"column\": \"lesion_id\",\n      \"properties\": {\n        \"dtype\": \"string\",\n        \"num_unique_values\": 7470,\n        \"samples\": [\n          \"HAM_0002743\",\n          \"HAM_0004142\",\n          \"HAM_0003658\"\n        ],\n        \"semantic_type\": \"\",\n        \"description\": \"\"\n      }\n    },\n    {\n      \"column\": \"image_id\",\n      \"properties\": {\n        \"dtype\": \"string\",\n        \"num_unique_values\": 10015,\n        \"samples\": [\n          \"ISIC_0033272\",\n          \"ISIC_0031923\",\n          \"ISIC_0026652\"\n        ],\n        \"semantic_type\": \"\",\n        \"description\": \"\"\n      }\n    },\n    {\n      \"column\": \"dx\",\n      \"properties\": {\n        \"dtype\": \"category\",\n        \"num_unique_values\": 7,\n        \"samples\": [\n          \"bkl\",\n          \"nv\",\n          \"bcc\"\n        ],\n        \"semantic_type\": \"\",\n        \"description\": \"\"\n      }\n    },\n    {\n      \"column\": \"dx_type\",\n      \"properties\": {\n        \"dtype\": \"category\",\n        \"num_unique_values\": 4,\n        \"samples\": [\n          \"consensus\",\n          \"follow_up\",\n          \"histo\"\n        ],\n        \"semantic_type\": \"\",\n        \"description\": \"\"\n      }\n    },\n    {\n      \"column\": \"age\",\n      \"properties\": {\n        \"dtype\": \"number\",\n        \"std\": 16.96861369249538,\n        \"min\": 0.0,\n        \"max\": 85.0,\n        \"num_unique_values\": 18,\n        \"samples\": [\n          80.0,\n          75.0,\n          50.0\n        ],\n        \"semantic_type\": \"\",\n        \"description\": \"\"\n      }\n    },\n    {\n      \"column\": \"sex\",\n      \"properties\": {\n        \"dtype\": \"category\",\n        \"num_unique_values\": 3,\n        \"samples\": [\n          \"male\",\n          \"female\",\n          \"unknown\"\n        ],\n        \"semantic_type\": \"\",\n        \"description\": \"\"\n      }\n    },\n    {\n      \"column\": \"localization\",\n      \"properties\": {\n        \"dtype\": \"category\",\n        \"num_unique_values\": 15,\n        \"samples\": [\n          \"lower extremity\",\n          \"neck\",\n          \"scalp\"\n        ],\n        \"semantic_type\": \"\",\n        \"description\": \"\"\n      }\n    }\n  ]\n}"
            }
          },
          "metadata": {},
          "execution_count": 8
        }
      ],
      "source": [
        "df = pd.read_csv(METADATA_PATH)\n",
        "df.head()"
      ]
    },
    {
      "cell_type": "code",
      "source": [
        "print(\"Dataset shape:\", df.shape)"
      ],
      "metadata": {
        "colab": {
          "base_uri": "https://localhost:8080/"
        },
        "id": "bS9B7OSZ-aF2",
        "outputId": "ecd9b471-f87e-41ca-e647-4d603b4fe31b"
      },
      "execution_count": 9,
      "outputs": [
        {
          "output_type": "stream",
          "name": "stdout",
          "text": [
            "Dataset shape: (10015, 7)\n"
          ]
        }
      ]
    },
    {
      "cell_type": "code",
      "source": [
        "print(\"Columns: \" + str(list(df.columns)))"
      ],
      "metadata": {
        "colab": {
          "base_uri": "https://localhost:8080/"
        },
        "id": "61cJQGo--bzL",
        "outputId": "602e82a9-efd9-4581-f28c-5a882fcc5700"
      },
      "execution_count": 10,
      "outputs": [
        {
          "output_type": "stream",
          "name": "stdout",
          "text": [
            "Columns: ['lesion_id', 'image_id', 'dx', 'dx_type', 'age', 'sex', 'localization']\n"
          ]
        }
      ]
    },
    {
      "cell_type": "code",
      "source": [
        "print(\"=== DATASET OVERVIEW ===\")\n",
        "print(\"Total number of samples: \" + str(len(df)))\n",
        "print(\"Number of features: \" + str(df.shape[1]))\n",
        "print(\"\\n=== COLUMN INFORMATION ===\")\n",
        "df.info()"
      ],
      "metadata": {
        "colab": {
          "base_uri": "https://localhost:8080/"
        },
        "id": "9VTCzYz3-src",
        "outputId": "66538576-1850-45d8-b341-38374bbecdda"
      },
      "execution_count": 11,
      "outputs": [
        {
          "output_type": "stream",
          "name": "stdout",
          "text": [
            "=== DATASET OVERVIEW ===\n",
            "Total number of samples: 10015\n",
            "Number of features: 7\n",
            "\n",
            "=== COLUMN INFORMATION ===\n",
            "<class 'pandas.core.frame.DataFrame'>\n",
            "RangeIndex: 10015 entries, 0 to 10014\n",
            "Data columns (total 7 columns):\n",
            " #   Column        Non-Null Count  Dtype  \n",
            "---  ------        --------------  -----  \n",
            " 0   lesion_id     10015 non-null  object \n",
            " 1   image_id      10015 non-null  object \n",
            " 2   dx            10015 non-null  object \n",
            " 3   dx_type       10015 non-null  object \n",
            " 4   age           9958 non-null   float64\n",
            " 5   sex           10015 non-null  object \n",
            " 6   localization  10015 non-null  object \n",
            "dtypes: float64(1), object(6)\n",
            "memory usage: 547.8+ KB\n"
          ]
        }
      ]
    },
    {
      "cell_type": "code",
      "execution_count": 12,
      "metadata": {
        "execution": {
          "iopub.execute_input": "2022-09-10T12:36:39.730636Z",
          "iopub.status.busy": "2022-09-10T12:36:39.729604Z",
          "iopub.status.idle": "2022-09-10T12:36:39.74841Z",
          "shell.execute_reply": "2022-09-10T12:36:39.746496Z",
          "shell.execute_reply.started": "2022-09-10T12:36:39.730588Z"
        },
        "colab": {
          "base_uri": "https://localhost:8080/"
        },
        "id": "oXVgsFo539cb",
        "outputId": "d077b9fe-1c5b-4a20-da3a-a3a1ad852756"
      },
      "outputs": [
        {
          "output_type": "execute_result",
          "data": {
            "text/plain": [
              "(array(['bkl', 'nv', 'df', 'mel', 'vasc', 'bcc', 'akiec'], dtype=object), 7)"
            ]
          },
          "metadata": {},
          "execution_count": 12
        }
      ],
      "source": [
        "# Lesion types\n",
        "classes = df.dx.unique()\n",
        "num_classes = len(classes)\n",
        "classes, num_classes"
      ]
    },
    {
      "cell_type": "code",
      "source": [
        "df['path'] = df.image_id.map(imageid_path_dict.get)"
      ],
      "metadata": {
        "id": "YlhJ8mOhJaIA"
      },
      "execution_count": 14,
      "outputs": []
    },
    {
      "cell_type": "markdown",
      "metadata": {
        "id": "va74lxFn39cc"
      },
      "source": [
        "# 5.2 Exploratory Data Analysis"
      ]
    },
    {
      "cell_type": "code",
      "execution_count": 15,
      "metadata": {
        "execution": {
          "iopub.execute_input": "2022-09-10T08:20:10.780187Z",
          "iopub.status.busy": "2022-09-10T08:20:10.779819Z",
          "iopub.status.idle": "2022-09-10T08:20:10.794778Z",
          "shell.execute_reply": "2022-09-10T08:20:10.793708Z",
          "shell.execute_reply.started": "2022-09-10T08:20:10.780156Z"
        },
        "colab": {
          "base_uri": "https://localhost:8080/",
          "height": 335
        },
        "id": "Nn16NAZt39cd",
        "outputId": "505dbc3b-3ac0-4080-ec9f-d7f1a2d9f941"
      },
      "outputs": [
        {
          "output_type": "execute_result",
          "data": {
            "text/plain": [
              "lesion_id        0\n",
              "image_id         0\n",
              "dx               0\n",
              "dx_type          0\n",
              "age             57\n",
              "sex              0\n",
              "localization     0\n",
              "path             0\n",
              "dtype: int64"
            ],
            "text/html": [
              "<div>\n",
              "<style scoped>\n",
              "    .dataframe tbody tr th:only-of-type {\n",
              "        vertical-align: middle;\n",
              "    }\n",
              "\n",
              "    .dataframe tbody tr th {\n",
              "        vertical-align: top;\n",
              "    }\n",
              "\n",
              "    .dataframe thead th {\n",
              "        text-align: right;\n",
              "    }\n",
              "</style>\n",
              "<table border=\"1\" class=\"dataframe\">\n",
              "  <thead>\n",
              "    <tr style=\"text-align: right;\">\n",
              "      <th></th>\n",
              "      <th>0</th>\n",
              "    </tr>\n",
              "  </thead>\n",
              "  <tbody>\n",
              "    <tr>\n",
              "      <th>lesion_id</th>\n",
              "      <td>0</td>\n",
              "    </tr>\n",
              "    <tr>\n",
              "      <th>image_id</th>\n",
              "      <td>0</td>\n",
              "    </tr>\n",
              "    <tr>\n",
              "      <th>dx</th>\n",
              "      <td>0</td>\n",
              "    </tr>\n",
              "    <tr>\n",
              "      <th>dx_type</th>\n",
              "      <td>0</td>\n",
              "    </tr>\n",
              "    <tr>\n",
              "      <th>age</th>\n",
              "      <td>57</td>\n",
              "    </tr>\n",
              "    <tr>\n",
              "      <th>sex</th>\n",
              "      <td>0</td>\n",
              "    </tr>\n",
              "    <tr>\n",
              "      <th>localization</th>\n",
              "      <td>0</td>\n",
              "    </tr>\n",
              "    <tr>\n",
              "      <th>path</th>\n",
              "      <td>0</td>\n",
              "    </tr>\n",
              "  </tbody>\n",
              "</table>\n",
              "</div><br><label><b>dtype:</b> int64</label>"
            ]
          },
          "metadata": {},
          "execution_count": 15
        }
      ],
      "source": [
        "df.isnull().sum()"
      ]
    },
    {
      "cell_type": "code",
      "source": [
        "df.age.fillna((df.age.mean()), inplace=True)\n",
        "df.isnull().sum()"
      ],
      "metadata": {
        "colab": {
          "base_uri": "https://localhost:8080/",
          "height": 335
        },
        "id": "zE_Qf0sNJPiJ",
        "outputId": "7abc3831-05ca-42a8-870c-f6ca49d1eee0"
      },
      "execution_count": 16,
      "outputs": [
        {
          "output_type": "execute_result",
          "data": {
            "text/plain": [
              "lesion_id       0\n",
              "image_id        0\n",
              "dx              0\n",
              "dx_type         0\n",
              "age             0\n",
              "sex             0\n",
              "localization    0\n",
              "path            0\n",
              "dtype: int64"
            ],
            "text/html": [
              "<div>\n",
              "<style scoped>\n",
              "    .dataframe tbody tr th:only-of-type {\n",
              "        vertical-align: middle;\n",
              "    }\n",
              "\n",
              "    .dataframe tbody tr th {\n",
              "        vertical-align: top;\n",
              "    }\n",
              "\n",
              "    .dataframe thead th {\n",
              "        text-align: right;\n",
              "    }\n",
              "</style>\n",
              "<table border=\"1\" class=\"dataframe\">\n",
              "  <thead>\n",
              "    <tr style=\"text-align: right;\">\n",
              "      <th></th>\n",
              "      <th>0</th>\n",
              "    </tr>\n",
              "  </thead>\n",
              "  <tbody>\n",
              "    <tr>\n",
              "      <th>lesion_id</th>\n",
              "      <td>0</td>\n",
              "    </tr>\n",
              "    <tr>\n",
              "      <th>image_id</th>\n",
              "      <td>0</td>\n",
              "    </tr>\n",
              "    <tr>\n",
              "      <th>dx</th>\n",
              "      <td>0</td>\n",
              "    </tr>\n",
              "    <tr>\n",
              "      <th>dx_type</th>\n",
              "      <td>0</td>\n",
              "    </tr>\n",
              "    <tr>\n",
              "      <th>age</th>\n",
              "      <td>0</td>\n",
              "    </tr>\n",
              "    <tr>\n",
              "      <th>sex</th>\n",
              "      <td>0</td>\n",
              "    </tr>\n",
              "    <tr>\n",
              "      <th>localization</th>\n",
              "      <td>0</td>\n",
              "    </tr>\n",
              "    <tr>\n",
              "      <th>path</th>\n",
              "      <td>0</td>\n",
              "    </tr>\n",
              "  </tbody>\n",
              "</table>\n",
              "</div><br><label><b>dtype:</b> int64</label>"
            ]
          },
          "metadata": {},
          "execution_count": 16
        }
      ]
    },
    {
      "cell_type": "markdown",
      "source": [
        "# 6 Preprocessing"
      ],
      "metadata": {
        "id": "g5XQb-a0ZX8L"
      }
    },
    {
      "cell_type": "markdown",
      "source": [
        "# 6.1 Keras image data processing for Machine Learning Models"
      ],
      "metadata": {
        "id": "5I3yT77c4yVy"
      }
    },
    {
      "cell_type": "code",
      "source": [
        "df['image'] = df.path.map(lambda x: np.asarray(Image.open(x).resize((CFG['img_width'], CFG['img_height']))))\n"
      ],
      "metadata": {
        "id": "hxLXUlyxDnz8"
      },
      "execution_count": 17,
      "outputs": []
    },
    {
      "cell_type": "code",
      "source": [
        "import numpy as np\n",
        "import pandas as pd\n",
        "from PIL import Image\n",
        "from sklearn.model_selection import train_test_split\n",
        "from sklearn.preprocessing import StandardScaler\n",
        "from sklearn.decomposition import PCA\n",
        "\n",
        "# 1. Load & resize image\n",
        "def load_and_resize_image(path, target_size):\n",
        "    return np.asarray(Image.open(path).resize(target_size))\n",
        "\n",
        "# 2. Load images into df['image']\n",
        "df['image'] = df['path'].map(lambda x: load_and_resize_image(x, (CFG['img_width'], CFG['img_height'])))\n",
        "\n",
        "# 3. Image preprocessing: convert to float, reverse channels, subtract mean per channel\n",
        "def prepare_images(images):\n",
        "    images = np.asarray(images).astype(np.float64)\n",
        "    images = images[:, :, :, ::-1]  # RGB to BGR\n",
        "    m0 = np.mean(images[:, :, :, 0])\n",
        "    m1 = np.mean(images[:, :, :, 1])\n",
        "    m2 = np.mean(images[:, :, :, 2])\n",
        "    images[:, :, :, 0] -= m0\n",
        "    images[:, :, :, 1] -= m1\n",
        "    images[:, :, :, 2] -= m2\n",
        "    return images\n",
        "\n",
        "# 4. Train-validation-test splitting\n",
        "trainset, testset = train_test_split(df, test_size=0.2, random_state=80)\n",
        "trainset, validationset = train_test_split(trainset, test_size=0.2, random_state=600)"
      ],
      "metadata": {
        "id": "8OB2IGsi4raN"
      },
      "execution_count": 18,
      "outputs": []
    },
    {
      "cell_type": "code",
      "source": [
        "# 5. Preprocess images\n",
        "train_images = prepare_images(list(trainset['image']))\n",
        "test_images = prepare_images(list(testset['image']))\n",
        "validation_images = prepare_images(list(validationset['image']))"
      ],
      "metadata": {
        "id": "oveLcid2iur_"
      },
      "execution_count": 21,
      "outputs": []
    },
    {
      "cell_type": "code",
      "source": [
        "# 6. Flatten images for ML models\n",
        "train_images = train_images.reshape(train_images.shape[0], -1)\n",
        "test_images = test_images.reshape(test_images.shape[0], -1)\n",
        "validation_images = validation_images.reshape(validation_images.shape[0], -1)"
      ],
      "metadata": {
        "id": "C1mpLT45ivVF"
      },
      "execution_count": 22,
      "outputs": []
    },
    {
      "cell_type": "code",
      "source": [
        "# 7. Normalize features\n",
        "scaler = StandardScaler()\n",
        "train_images = scaler.fit_transform(train_images)\n",
        "test_images = scaler.transform(test_images)\n",
        "validation_images = scaler.transform(validation_images)"
      ],
      "metadata": {
        "id": "cmQAORdZiyx5"
      },
      "execution_count": 23,
      "outputs": []
    },
    {
      "cell_type": "code",
      "source": [
        "from sklearn.decomposition import IncrementalPCA\n",
        "\n",
        "# 7. Apply Incremental PCA to reduce dimensionality\n",
        "n_components = 100\n",
        "batch_size = 100\n",
        "\n",
        "ipca = IncrementalPCA(n_components=n_components, batch_size=batch_size)\n",
        "\n",
        "# Fit on training data\n",
        "train_images_pca = ipca.fit_transform(train_images)\n",
        "\n",
        "# Transform test and validation\n",
        "test_images_pca = ipca.transform(test_images)\n",
        "validation_images_pca = ipca.transform(validation_images)\n",
        "\n",
        "# Optional: check explained variance ratio\n",
        "print(f\"Incremental PCA retained {np.sum(ipca.explained_variance_ratio_):.2%} of total variance\")\n"
      ],
      "metadata": {
        "colab": {
          "base_uri": "https://localhost:8080/"
        },
        "id": "MIJkEdIii4x6",
        "outputId": "92a67bb4-ae67-463a-b29e-23d71872ee07"
      },
      "execution_count": 24,
      "outputs": [
        {
          "output_type": "stream",
          "name": "stdout",
          "text": [
            "Incremental PCA retained 94.22% of total variance\n"
          ]
        }
      ]
    },
    {
      "cell_type": "code",
      "source": [
        "# 9. Prepare labels\n",
        "train_labels = np.asarray(trainset['dx'])\n",
        "test_labels = np.asarray(testset['dx'])\n",
        "validation_labels = np.asarray(validationset['dx'])"
      ],
      "metadata": {
        "id": "O9xHmLdji82F"
      },
      "execution_count": 25,
      "outputs": []
    },
    {
      "cell_type": "markdown",
      "source": [
        "# 6.2 Preprocessing Tabular Data"
      ],
      "metadata": {
        "id": "_E5nskziZjvf"
      }
    },
    {
      "cell_type": "code",
      "source": [
        "import pandas as pd\n",
        "import numpy as np\n",
        "from sklearn.preprocessing import StandardScaler, LabelEncoder\n",
        "\n",
        "# Features and target\n",
        "features_for_nb = ['age', 'sex', 'localization', 'dx_type']\n",
        "target_for_nb = 'dx'\n",
        "\n",
        "# Drop rows with missing values in these columns\n",
        "df_cleaned = df.dropna(subset=features_for_nb + [target_for_nb]).copy()\n",
        "\n",
        "# Separate features and target\n",
        "X_tabular = df_cleaned[features_for_nb]\n",
        "y_tabular = df_cleaned[target_for_nb]\n",
        "\n",
        "# One-hot encode categorical columns manually\n",
        "X_tabular_encoded = pd.get_dummies(X_tabular, columns=['sex', 'localization', 'dx_type'])\n",
        "\n",
        "# Scale numeric 'age' column\n",
        "scaler = StandardScaler()\n",
        "X_tabular_encoded['age'] = scaler.fit_transform(X_tabular_encoded[['age']])\n",
        "\n",
        "# Encode target labels\n",
        "label_encoder = LabelEncoder()\n",
        "y_encoded = label_encoder.fit_transform(y_tabular)\n",
        "\n",
        "\n",
        "\n",
        "# Intersect indices to get matching rows for tabular data for train, test, val\n",
        "train_idx = trainset.index.intersection(df_cleaned.index)\n",
        "test_idx = testset.index.intersection(df_cleaned.index)\n",
        "val_idx = validationset.index.intersection(df_cleaned.index)\n",
        "\n",
        "tabular_features_train = X_tabular_encoded.loc[train_idx].values\n",
        "tabular_features_test = X_tabular_encoded.loc[test_idx].values\n",
        "tabular_features_validation = X_tabular_encoded.loc[val_idx].values\n",
        "\n",
        "train_labels_enc = y_encoded[df_cleaned.index.get_indexer(train_idx)]\n",
        "test_labels_enc = y_encoded[df_cleaned.index.get_indexer(test_idx)]\n",
        "validation_labels_enc = y_encoded[df_cleaned.index.get_indexer(val_idx)]\n",
        "\n",
        "\n",
        "print(\"tabular_features_train shape:\", tabular_features_train.shape)\n",
        "print(\"tabular_features_test shape:\", tabular_features_test.shape)\n",
        "print(\"tabular_features_validation shape:\", tabular_features_validation.shape)\n",
        "\n",
        "print(\"train_labels_enc shape:\", train_labels_enc.shape)\n",
        "print(\"test_labels_enc shape:\", test_labels_enc.shape)\n",
        "print(\"validation_labels_enc shape:\", validation_labels_enc.shape)\n"
      ],
      "metadata": {
        "colab": {
          "base_uri": "https://localhost:8080/"
        },
        "id": "7W9H0OeofHtJ",
        "outputId": "6f070c26-4170-48f1-9c5b-a4f55ff56bc5"
      },
      "execution_count": 60,
      "outputs": [
        {
          "output_type": "stream",
          "name": "stdout",
          "text": [
            "tabular_features_train shape: (6409, 23)\n",
            "tabular_features_test shape: (2003, 23)\n",
            "tabular_features_validation shape: (1603, 23)\n",
            "train_labels_enc shape: (6409,)\n",
            "test_labels_enc shape: (2003,)\n",
            "validation_labels_enc shape: (1603,)\n"
          ]
        }
      ]
    },
    {
      "cell_type": "markdown",
      "source": [
        "# 6.3 Combining Tabular and Image Features"
      ],
      "metadata": {
        "id": "7BPXeg0lalo1"
      }
    },
    {
      "cell_type": "code",
      "source": [
        "# Convert to dense if sparse\n",
        "tabular_features_train = tabular_features_train.toarray() if hasattr(tabular_features_train, 'toarray') else tabular_features_train\n",
        "tabular_features_test = tabular_features_test.toarray() if hasattr(tabular_features_test, 'toarray') else tabular_features_test\n",
        "tabular_features_validation = tabular_features_validation.toarray() if hasattr(tabular_features_validation, 'toarray') else tabular_features_validation\n"
      ],
      "metadata": {
        "id": "B0ASC4anp3p4"
      },
      "execution_count": 61,
      "outputs": []
    },
    {
      "cell_type": "code",
      "source": [
        "\n",
        "print(\"train_images_pca shape:\", train_images_pca.shape)  # should be (6409, 100)\n",
        "print(\"test_images_pca shape:\", test_images_pca.shape)    # should be (2003, 100)\n",
        "print(\"validation_images_pca shape:\", validation_images_pca.shape)  # (1603, 100)\n",
        "\n",
        "# Combine features horizontally (concatenate columns)\n",
        "train_combined = np.hstack([train_images_pca, tabular_features_train])\n",
        "test_combined = np.hstack([test_images_pca, tabular_features_test])\n",
        "validation_combined = np.hstack([validation_images_pca, tabular_features_validation])\n",
        "\n",
        "print(\"train_combined shape:\", train_combined.shape)  # (6409, 123)\n",
        "print(\"test_combined shape:\", test_combined.shape)    # (2003, 123)\n",
        "print(\"validation_combined shape:\", validation_combined.shape)  # (1603, 123)\n"
      ],
      "metadata": {
        "id": "4q4EucDsaqoY",
        "colab": {
          "base_uri": "https://localhost:8080/"
        },
        "outputId": "f10051c5-5f1e-467a-bbf1-eb08cb1efedc"
      },
      "execution_count": 62,
      "outputs": [
        {
          "output_type": "stream",
          "name": "stdout",
          "text": [
            "train_images_pca shape: (6409, 100)\n",
            "test_images_pca shape: (2003, 100)\n",
            "validation_images_pca shape: (1603, 100)\n",
            "train_combined shape: (6409, 123)\n",
            "test_combined shape: (2003, 123)\n",
            "validation_combined shape: (1603, 123)\n"
          ]
        }
      ]
    },
    {
      "cell_type": "markdown",
      "metadata": {
        "execution": {
          "iopub.execute_input": "2021-06-06T15:25:49.684653Z",
          "iopub.status.busy": "2021-06-06T15:25:49.684302Z",
          "iopub.status.idle": "2021-06-06T15:25:49.689686Z",
          "shell.execute_reply": "2021-06-06T15:25:49.688632Z",
          "shell.execute_reply.started": "2021-06-06T15:25:49.684615Z"
        },
        "papermill": {
          "duration": 0.061971,
          "end_time": "2021-06-08T00:26:51.788731",
          "exception": false,
          "start_time": "2021-06-08T00:26:51.72676",
          "status": "completed"
        },
        "tags": [],
        "id": "-y0_icXY39cf"
      },
      "source": [
        "# 7. Model"
      ]
    },
    {
      "cell_type": "markdown",
      "source": [
        "# 7.1 Build the Models"
      ],
      "metadata": {
        "id": "0RhDjvLtUaXa"
      }
    },
    {
      "cell_type": "markdown",
      "source": [
        "Naive Bayes"
      ],
      "metadata": {
        "id": "zx1oo3IZ03BR"
      }
    },
    {
      "cell_type": "code",
      "source": [
        "import numpy as np\n",
        "from sklearn.naive_bayes import GaussianNB\n",
        "from sklearn.metrics import accuracy_score, classification_report, confusion_matrix\n",
        "\n",
        "# Initialize the Gaussian Naive Bayes model\n",
        "naive_bayes_model = GaussianNB()\n",
        "\n",
        "# Train the model on the combined training data\n",
        "print(\"Training Naive Bayes model...\")\n",
        "naive_bayes_model.fit(train_combined, train_labels_enc)\n",
        "print(\"Training complete.\")\n",
        "\n",
        "# Predict on the validation set\n",
        "print(\"Predicting on validation set...\")\n",
        "validation_predictions = naive_bayes_model.predict(validation_combined)\n",
        "\n",
        "# Evaluate the model on the validation set\n",
        "print(\"\\nEvaluating Naive Bayes model on validation set:\")\n",
        "accuracy = accuracy_score(validation_labels_enc, validation_predictions)\n",
        "print(f\"Validation Accuracy: {accuracy:.4f}\")\n",
        "\n",
        "# Get the original class names using the label encoder\n",
        "original_class_names = label_encoder.inverse_transform(np.unique(y_encoded))\n",
        "\n",
        "# Print classification report\n",
        "print(\"\\nClassification Report (Validation Set):\")\n",
        "print(classification_report(validation_labels_enc, validation_predictions, target_names=original_class_names))\n",
        "\n",
        "# Print confusion matrix\n",
        "print(\"\\nConfusion Matrix (Validation Set):\")\n",
        "conf_matrix = confusion_matrix(validation_labels_enc, validation_predictions)\n",
        "print(conf_matrix)\n",
        "\n",
        "\n",
        "print(\"\\nPredicting on test set...\")\n",
        "test_predictions = naive_bayes_model.predict(test_combined)\n",
        "\n",
        "# Evaluate the model on the test set\n",
        "print(\"\\nEvaluating Naive Bayes model on test set:\")\n",
        "accuracy_test = accuracy_score(test_labels_enc, test_predictions)\n",
        "print(f\"Test Accuracy: {accuracy_test:.4f}\")\n",
        "\n",
        "# Print classification report for the test set\n",
        "print(\"\\nClassification Report (Test Set):\")\n",
        "print(classification_report(test_labels_enc, test_predictions, target_names=original_class_names))\n",
        "\n",
        "# Print confusion matrix for the test set\n",
        "print(\"\\nConfusion Matrix (Test Set):\")\n",
        "conf_matrix_test = confusion_matrix(test_labels_enc, test_predictions)\n",
        "conf_matrix_test\n",
        "\n"
      ],
      "metadata": {
        "colab": {
          "base_uri": "https://localhost:8080/"
        },
        "id": "ljgAQr9S0WWH",
        "outputId": "1893f9d1-bd00-497e-b881-f2b3e6587d5c"
      },
      "execution_count": 63,
      "outputs": [
        {
          "output_type": "stream",
          "name": "stdout",
          "text": [
            "Training Naive Bayes model...\n",
            "Training complete.\n",
            "Predicting on validation set...\n",
            "\n",
            "Evaluating Naive Bayes model on validation set:\n",
            "Validation Accuracy: 0.4997\n",
            "\n",
            "Classification Report (Validation Set):\n",
            "              precision    recall  f1-score   support\n",
            "\n",
            "       akiec       0.18      0.53      0.26        57\n",
            "         bcc       0.15      0.42      0.22        72\n",
            "         bkl       0.59      0.13      0.22       164\n",
            "          df       0.05      0.81      0.09        16\n",
            "         mel       0.38      0.38      0.38       194\n",
            "          nv       0.99      0.58      0.73      1075\n",
            "        vasc       0.11      0.44      0.18        25\n",
            "\n",
            "    accuracy                           0.50      1603\n",
            "   macro avg       0.35      0.47      0.30      1603\n",
            "weighted avg       0.79      0.50      0.58      1603\n",
            "\n",
            "\n",
            "Confusion Matrix (Validation Set):\n",
            "[[ 30   7   0  11   9   0   0]\n",
            " [ 20  30   0  15   4   1   2]\n",
            " [ 35  25  22  30  19   3  30]\n",
            " [  0   2   0  13   1   0   0]\n",
            " [ 49  28   0  41  74   1   1]\n",
            " [ 36 110  15 154  85 621  54]\n",
            " [  1   2   0  10   1   0  11]]\n",
            "\n",
            "Predicting on test set...\n",
            "\n",
            "Evaluating Naive Bayes model on test set:\n",
            "Test Accuracy: 0.4968\n",
            "\n",
            "Classification Report (Test Set):\n",
            "              precision    recall  f1-score   support\n",
            "\n",
            "       akiec       0.16      0.48      0.24        67\n",
            "         bcc       0.17      0.41      0.24       104\n",
            "         bkl       0.46      0.10      0.17       224\n",
            "          df       0.05      0.73      0.10        26\n",
            "         mel       0.34      0.41      0.37       210\n",
            "          nv       0.99      0.58      0.73      1350\n",
            "        vasc       0.07      0.36      0.12        22\n",
            "\n",
            "    accuracy                           0.50      2003\n",
            "   macro avg       0.32      0.44      0.28      2003\n",
            "weighted avg       0.77      0.50      0.57      2003\n",
            "\n",
            "\n",
            "Confusion Matrix (Test Set):\n"
          ]
        },
        {
          "output_type": "execute_result",
          "data": {
            "text/plain": [
              "array([[ 32,  11,   0,  12,  11,   0,   1],\n",
              "       [ 28,  43,   0,  18,  10,   2,   3],\n",
              "       [ 59,  34,  23,  52,  26,   5,  25],\n",
              "       [  2,   0,   1,  19,   3,   1,   0],\n",
              "       [ 46,  29,   1,  42,  86,   3,   3],\n",
              "       [ 35, 131,  24, 196, 112, 784,  68],\n",
              "       [  1,   1,   1,   7,   4,   0,   8]])"
            ]
          },
          "metadata": {},
          "execution_count": 63
        }
      ]
    },
    {
      "cell_type": "code",
      "source": [
        "from sklearn.naive_bayes import GaussianNB\n",
        "from sklearn.metrics import accuracy_score, classification_report, confusion_matrix\n",
        "from sklearn.preprocessing import LabelEncoder, StandardScaler\n",
        "from sklearn.decomposition import IncrementalPCA\n",
        "\n",
        "# Ensure labels are encoded numerically for Naive Bayes\n",
        "label_encoder = LabelEncoder()\n",
        "train_labels_encoded = label_encoder.fit_transform(train_labels)\n",
        "test_labels_encoded = label_encoder.transform(test_labels)\n",
        "validation_labels_encoded = label_encoder.transform(validation_labels)\n",
        "\n",
        "naive_bayes_image_model = GaussianNB()\n",
        "\n",
        "# Train the model using only the image features\n",
        "print(\"Training Naive Bayes model using only image features...\")\n",
        "naive_bayes_image_model.fit(train_images_pca, train_labels_encoded)\n",
        "print(\"Training complete.\")\n",
        "\n",
        "# Predict on the validation set using only image features\n",
        "print(\"Predicting on validation set using only image features...\")\n",
        "validation_predictions_image = naive_bayes_image_model.predict(validation_images_pca)\n",
        "\n",
        "# Evaluate the model on the validation set\n",
        "print(\"\\nEvaluating Naive Bayes model on validation set (Image Features Only):\")\n",
        "accuracy_image_val = accuracy_score(validation_labels_encoded, validation_predictions_image)\n",
        "print(f\"Validation Accuracy (Image Only): {accuracy_image_val:.4f}\")\n",
        "\n",
        "# Get the original class names using the label encoder\n",
        "original_class_names = label_encoder.classes_\n",
        "\n",
        "# Print classification report for validation set (Image Only)\n",
        "print(\"\\nClassification Report (Validation Set - Image Only):\")\n",
        "print(classification_report(validation_labels_encoded, validation_predictions_image, target_names=original_class_names))\n",
        "\n",
        "# Print confusion matrix for validation set (Image Only)\n",
        "print(\"\\nConfusion Matrix (Validation Set - Image Only):\")\n",
        "conf_matrix_image_val = confusion_matrix(validation_labels_encoded, validation_predictions_image)\n",
        "print(conf_matrix_image_val)\n",
        "\n",
        "\n",
        "# Test set after final model selection (Image Only)\n",
        "print(\"\\nPredicting on test set using only image features...\")\n",
        "test_predictions_image = naive_bayes_image_model.predict(test_images_pca)\n",
        "\n",
        "# Evaluate the model on the test set\n",
        "print(\"\\nEvaluating Naive Bayes model on test set (Image Features Only):\")\n",
        "accuracy_image_test = accuracy_score(test_labels_encoded, test_predictions_image)\n",
        "print(f\"Test Accuracy (Image Only): {accuracy_image_test:.4f}\")\n",
        "\n",
        "# Print classification report for the test set (Image Only)\n",
        "print(\"\\nClassification Report (Test Set - Image Only):\")\n",
        "print(classification_report(test_labels_encoded, test_predictions_image, target_names=original_class_names))\n",
        "\n",
        "# Print confusion matrix for the test set (Image Only)\n",
        "print(\"\\nConfusion Matrix (Test Set - Image Only):\")\n",
        "conf_matrix_image_test = confusion_matrix(test_labels_encoded, test_predictions_image)\n",
        "conf_matrix_image_test\n"
      ],
      "metadata": {
        "id": "ecP3bqTwfiKe"
      },
      "execution_count": null,
      "outputs": []
    },
    {
      "cell_type": "code",
      "source": [
        "# Initialize the Gaussian Naive Bayes model for tabular data\n",
        "naive_bayes_tabular_model = GaussianNB()\n",
        "\n",
        "# Train the model using only the tabular features\n",
        "print(\"Training Naive Bayes model using only tabular features...\")\n",
        "naive_bayes_tabular_model.fit(tabular_features_train, train_labels_enc)\n",
        "print(\"Training complete.\")\n",
        "\n",
        "# Predict on the validation set using only tabular features\n",
        "print(\"Predicting on validation set using only tabular features...\")\n",
        "validation_predictions_tabular = naive_bayes_tabular_model.predict(tabular_features_validation)\n",
        "\n",
        "# Evaluate the model on the validation set\n",
        "print(\"\\nEvaluating Naive Bayes model on validation set (Tabular Features Only):\")\n",
        "accuracy_tabular_val = accuracy_score(validation_labels_enc, validation_predictions_tabular)\n",
        "print(f\"Validation Accuracy (Tabular Only): {accuracy_tabular_val:.4f}\")\n",
        "\n",
        "# Get the original class names using the label encoder\n",
        "original_class_names = label_encoder.classes_\n",
        "\n",
        "# Print classification report for validation set (Tabular Only)\n",
        "print(\"\\nClassification Report (Validation Set - Tabular Only):\")\n",
        "print(classification_report(validation_labels_enc, validation_predictions_tabular, target_names=original_class_names))\n",
        "\n",
        "# Print confusion matrix for validation set (Tabular Only)\n",
        "print(\"\\nConfusion Matrix (Validation Set - Tabular Only):\")\n",
        "conf_matrix_tabular_val = confusion_matrix(validation_labels_enc, validation_predictions_tabular)\n",
        "print(conf_matrix_tabular_val)\n",
        "\n",
        "\n",
        "# Evaluate on the test set after final model selection (Tabular Only)\n",
        "print(\"\\nPredicting on test set using only tabular features...\")\n",
        "test_predictions_tabular = naive_bayes_tabular_model.predict(tabular_features_test)\n",
        "\n",
        "# Evaluate the model on the test set\n",
        "print(\"\\nEvaluating Naive Bayes model on test set (Tabular Features Only):\")\n",
        "accuracy_tabular_test = accuracy_score(test_labels_enc, test_predictions_tabular)\n",
        "print(f\"Test Accuracy (Tabular Only): {accuracy_tabular_test:.4f}\")\n",
        "\n",
        "# Print classification report for the test set (Tabular Only)\n",
        "print(\"\\nClassification Report (Test Set - Tabular Only):\")\n",
        "print(classification_report(test_labels_enc, test_predictions_tabular, target_names=original_class_names))\n",
        "\n",
        "# Print confusion matrix for the test set (Tabular Only)\n",
        "print(\"\\nConfusion Matrix (Test Set - Tabular Only):\")\n",
        "conf_matrix_tabular_test = confusion_matrix(test_labels_enc, test_predictions_tabular)\n",
        "conf_matrix_tabular_test\n"
      ],
      "metadata": {
        "id": "jnc6IDorgQA0"
      },
      "execution_count": null,
      "outputs": []
    },
    {
      "cell_type": "markdown",
      "source": [
        "KNN"
      ],
      "metadata": {
        "id": "1M59Iw981StP"
      }
    },
    {
      "cell_type": "code",
      "source": [
        "import numpy as np\n",
        "from sklearn.preprocessing import StandardScaler\n",
        "from sklearn.neighbors import KNeighborsClassifier\n",
        "from sklearn.metrics import accuracy_score, classification_report, confusion_matrix\n",
        "\n",
        "# Copy tabular features (to avoid interfering with other models)\n",
        "tab_train_for_knn = tabular_features_train.copy()\n",
        "tab_val_for_knn = tabular_features_validation.copy()\n",
        "tab_test_for_knn = tabular_features_test.copy()\n",
        "\n",
        "# Scale tabular features (for KNN only)\n",
        "scaler_knn = StandardScaler()\n",
        "tab_train_for_knn = scaler_knn.fit_transform(tab_train_for_knn)\n",
        "tab_val_for_knn = scaler_knn.transform(tab_val_for_knn)\n",
        "tab_test_for_knn = scaler_knn.transform(tab_test_for_knn)\n",
        "\n",
        "# Combine scaled tabular + image features\n",
        "train_combined_knn = np.hstack([train_images_pca, tab_train_for_knn])\n",
        "validation_combined_knn = np.hstack([validation_images_pca, tab_val_for_knn])\n",
        "test_combined_knn = np.hstack([test_images_pca, tab_test_for_knn])\n",
        "\n",
        "# Initialize and train KNN\n",
        "knn_model = KNeighborsClassifier(n_neighbors=10)\n",
        "print(\" Training KNN on combined features...\")\n",
        "knn_model.fit(train_combined_knn, train_labels_enc)\n",
        "print(\"Training complete.\")\n",
        "\n",
        "#  Validation evaluation\n",
        "print(\"\\n Predicting on validation set...\")\n",
        "val_preds_knn = knn_model.predict(validation_combined_knn)\n",
        "\n",
        "print(\"\\ KNN Validation Accuracy:\", accuracy_score(validation_labels_enc, val_preds_knn))\n",
        "print(\"\\nClassification Report (Validation):\")\n",
        "print(classification_report(validation_labels_enc, val_preds_knn, target_names=original_class_names))\n",
        "print(\"\\nConfusion Matrix (Validation):\")\n",
        "print(confusion_matrix(validation_labels_enc, val_preds_knn))\n",
        "\n",
        "# Test evaluation\n",
        "print(\"\\n Predicting on test set...\")\n",
        "test_preds_knn = knn_model.predict(test_combined_knn)\n",
        "\n",
        "print(\"\\ KNN Test Accuracy:\", accuracy_score(test_labels_enc, test_preds_knn))\n",
        "print(\"\\nClassification Report (Test):\")\n",
        "print(classification_report(test_labels_enc, test_preds_knn, target_names=original_class_names))\n",
        "print(\"\\nConfusion Matrix (Test):\")\n",
        "print(confusion_matrix(test_labels_enc, test_preds_knn))\n",
        "\n",
        "accuracy_knn_combined_test = accuracy_score(test_labels_enc, test_preds_knn)\n"
      ],
      "metadata": {
        "colab": {
          "base_uri": "https://localhost:8080/"
        },
        "id": "kcVkpHpXORL9",
        "outputId": "ff37e090-1eda-4a79-f008-5d573f16d62c"
      },
      "execution_count": 80,
      "outputs": [
        {
          "output_type": "stream",
          "name": "stdout",
          "text": [
            "📌 Training KNN on combined features...\n",
            "✅ Training complete.\n",
            "\n",
            "🔎 Predicting on validation set...\n",
            "\n",
            "📊 KNN Validation Accuracy: 0.6887086712414223\n",
            "\n",
            "Classification Report (Validation):\n",
            "              precision    recall  f1-score   support\n",
            "\n",
            "       akiec       0.58      0.12      0.20        57\n",
            "         bcc       0.35      0.32      0.33        72\n",
            "         bkl       0.28      0.27      0.28       164\n",
            "          df       0.00      0.00      0.00        16\n",
            "         mel       0.45      0.08      0.13       194\n",
            "          nv       0.76      0.94      0.84      1075\n",
            "        vasc       0.00      0.00      0.00        25\n",
            "\n",
            "    accuracy                           0.69      1603\n",
            "   macro avg       0.35      0.25      0.26      1603\n",
            "weighted avg       0.63      0.69      0.63      1603\n",
            "\n",
            "\n",
            "Confusion Matrix (Validation):\n",
            "[[   7   14   17    0    0   19    0]\n",
            " [   0   23   11    0    1   37    0]\n",
            " [   4    9   45    0    4  102    0]\n",
            " [   0    1    6    0    0    9    0]\n",
            " [   0    6   42    0   15  131    0]\n",
            " [   1    9   36    1   13 1014    1]\n",
            " [   0    4    3    1    0   17    0]]\n",
            "\n",
            "🔎 Predicting on test set...\n",
            "\n",
            "✅ KNN Test Accuracy: 0.7074388417373939\n",
            "\n",
            "Classification Report (Test):\n",
            "              precision    recall  f1-score   support\n",
            "\n",
            "       akiec       0.26      0.09      0.13        67\n",
            "         bcc       0.37      0.27      0.31       104\n",
            "         bkl       0.42      0.39      0.41       224\n",
            "          df       0.00      0.00      0.00        26\n",
            "         mel       0.36      0.07      0.12       210\n",
            "          nv       0.78      0.95      0.85      1350\n",
            "        vasc       0.00      0.00      0.00        22\n",
            "\n",
            "    accuracy                           0.71      2003\n",
            "   macro avg       0.31      0.25      0.26      2003\n",
            "weighted avg       0.64      0.71      0.65      2003\n",
            "\n",
            "\n",
            "Confusion Matrix (Test):\n",
            "[[   6   13   18    1    3   26    0]\n",
            " [   2   28   22    1    0   51    0]\n",
            " [   3   11   88    1    8  113    0]\n",
            " [   4    3    5    0    0   14    0]\n",
            " [   4    4   35    0   15  152    0]\n",
            " [   4   13   37    1   15 1280    0]\n",
            " [   0    3    4    0    1   14    0]]\n"
          ]
        }
      ]
    },
    {
      "cell_type": "code",
      "source": [
        "# KNN for Image Data Only\n",
        "\n",
        "\n",
        "from sklearn.neighbors import KNeighborsClassifier\n",
        "from sklearn.metrics import accuracy_score, classification_report, confusion_matrix\n",
        "\n",
        "knn_image_model = KNeighborsClassifier(n_neighbors=10)\n",
        "\n",
        "# Train the model using only the image features\n",
        "print(\"Training KNN model using only image features...\")\n",
        "knn_image_model.fit(train_images_pca, train_labels_encoded)\n",
        "print(\"Training complete.\")\n",
        "\n",
        "# Predict on the validation set using only image features\n",
        "print(\"Predicting on validation set using only image features...\")\n",
        "validation_predictions_knn_image = knn_image_model.predict(validation_images_pca)\n",
        "\n",
        "# Evaluate the model on the validation set\n",
        "print(\"\\nEvaluating KNN model on validation set (Image Features Only):\")\n",
        "accuracy_knn_image_val = accuracy_score(validation_labels_encoded, validation_predictions_knn_image)\n",
        "print(f\"Validation Accuracy (Image Only): {accuracy_knn_image_val:.4f}\")\n",
        "\n",
        "\n",
        "# Print classification report for validation set (Image Only)\n",
        "print(\"\\nClassification Report (Validation Set - KNN - Image Only):\")\n",
        "print(classification_report(validation_labels_encoded, validation_predictions_knn_image, target_names=original_class_names))\n",
        "\n",
        "# Print confusion matrix for validation set (Image Only)\n",
        "print(\"\\nConfusion Matrix (Validation Set - KNN - Image Only):\")\n",
        "conf_matrix_knn_image_val = confusion_matrix(validation_labels_encoded, validation_predictions_knn_image)\n",
        "print(conf_matrix_knn_image_val)\n",
        "\n",
        "\n",
        "# Evaluate on the test set after final model selection (Image Only)\n",
        "print(\"\\nPredicting on test set using only image features...\")\n",
        "test_predictions_knn_image = knn_image_model.predict(test_images_pca)\n",
        "\n",
        "# Evaluate the model on the test set\n",
        "print(\"\\nEvaluating KNN model on test set (Image Features Only):\")\n",
        "accuracy_knn_image_test = accuracy_score(test_labels_encoded, test_predictions_knn_image)\n",
        "print(f\"Test Accuracy (Image Only): {accuracy_knn_image_test:.4f}\")\n",
        "\n",
        "# Print classification report for the test set (Image Only)\n",
        "print(\"\\nClassification Report (Test Set - KNN - Image Only):\")\n",
        "print(classification_report(test_labels_encoded, test_predictions_knn_image, target_names=original_class_names))\n",
        "\n",
        "# Print confusion matrix for the test set (Image Only)\n",
        "print(\"\\nConfusion Matrix (Test Set - KNN - Image Only):\")\n",
        "conf_matrix_knn_image_test = confusion_matrix(test_labels_encoded, test_predictions_knn_image)\n",
        "conf_matrix_knn_image_test\n"
      ],
      "metadata": {
        "id": "VOV8pAZigqEB"
      },
      "execution_count": null,
      "outputs": []
    },
    {
      "cell_type": "code",
      "source": [
        "\n",
        "# KNN for Tabular Data Only\n",
        "\n",
        "from sklearn.neighbors import KNeighborsClassifier\n",
        "from sklearn.metrics import accuracy_score, classification_report, confusion_matrix\n",
        "from sklearn.preprocessing import LabelEncoder, StandardScaler\n",
        "from sklearn.decomposition import IncrementalPCA\n",
        "\n",
        "\n",
        "knn_tabular_model = KNeighborsClassifier(n_neighbors=10)\n",
        "\n",
        "# Train the model using only the tabular features\n",
        "print(\"Training KNN model using only tabular features...\")\n",
        "knn_tabular_model.fit(tabular_features_train, train_labels_enc)\n",
        "print(\"Training complete.\")\n",
        "\n",
        "# Predict on the validation set using only tabular features\n",
        "print(\"Predicting on validation set using only tabular features...\")\n",
        "validation_predictions_knn_tabular = knn_tabular_model.predict(tabular_features_validation)\n",
        "\n",
        "# Evaluate the model on the validation set\n",
        "print(\"\\nEvaluating KNN model on validation set (Tabular Features Only):\")\n",
        "accuracy_knn_tabular_val = accuracy_score(validation_labels_enc, validation_predictions_knn_tabular)\n",
        "print(f\"Validation Accuracy (Tabular Only): {accuracy_knn_tabular_val:.4f}\")\n",
        "\n",
        "# Get the original class names using the label encoder\n",
        "original_class_names = label_encoder.classes_\n",
        "\n",
        "# Print classification report for validation set (Tabular Only)\n",
        "print(\"\\nClassification Report (Validation Set - KNN - Tabular Only):\")\n",
        "print(classification_report(validation_labels_enc, validation_predictions_knn_tabular, target_names=original_class_names))\n",
        "\n",
        "# Print confusion matrix for validation set (Tabular Only)\n",
        "print(\"\\nConfusion Matrix (Validation Set - KNN - Tabular Only):\")\n",
        "conf_matrix_knn_tabular_val = confusion_matrix(validation_labels_enc, validation_predictions_knn_tabular)\n",
        "print(conf_matrix_knn_tabular_val)\n",
        "\n",
        "\n",
        "# Evaluate on the test set after final model selection (Tabular Only)\n",
        "print(\"\\nPredicting on test set using only tabular features...\")\n",
        "test_predictions_knn_tabular = knn_tabular_model.predict(tabular_features_test) # Assuming test_features_tabular is available\n",
        "\n",
        "# Evaluate the model on the test set\n",
        "print(\"\\nEvaluating KNN model on test set (Tabular Features Only):\")\n",
        "accuracy_knn_tabular_test = accuracy_score(test_labels_enc, test_predictions_knn_tabular) # Assuming test_labels_enc is available\n",
        "print(f\"Test Accuracy (Tabular Only): {accuracy_knn_tabular_test:.4f}\")\n",
        "\n",
        "# Print classification report for the test set (Tabular Only)\n",
        "print(\"\\nClassification Report (Test Set - KNN - Tabular Only):\")\n",
        "print(classification_report(test_labels_enc, test_predictions_knn_tabular, target_names=original_class_names))\n",
        "\n",
        "# Print confusion matrix for the test set (Tabular Only)\n",
        "print(\"\\nConfusion Matrix (Test Set - KNN - Tabular Only):\")\n",
        "conf_matrix_knn_tabular_test = confusion_matrix(test_labels_enc, test_predictions_knn_tabular)\n",
        "conf_matrix_knn_tabular_test\n"
      ],
      "metadata": {
        "id": "V3hFQkshg-d7"
      },
      "execution_count": null,
      "outputs": []
    },
    {
      "cell_type": "markdown",
      "source": [
        "Decision Tree"
      ],
      "metadata": {
        "id": "8X6Szyqbt1GG"
      }
    },
    {
      "cell_type": "code",
      "source": [
        "import numpy as np\n",
        "from sklearn.tree import DecisionTreeClassifier\n",
        "from sklearn.metrics import accuracy_score, classification_report, confusion_matrix\n",
        "from sklearn.preprocessing import LabelEncoder, StandardScaler\n",
        "from sklearn.decomposition import IncrementalPCA\n",
        "from sklearn.svm import SVC\n",
        "from sklearn.neighbors import KNeighborsClassifier\n",
        "from sklearn.naive_bayes import GaussianNB\n",
        "from sklearn.ensemble import RandomForestClassifier\n",
        "\n",
        "\n",
        "decision_tree_model = DecisionTreeClassifier(random_state=SEED)\n",
        "\n",
        "# Train the model on the combined training data\n",
        "print(\"Training Decision Tree model...\")\n",
        "decision_tree_model.fit(train_combined, train_labels_enc)\n",
        "print(\"Training complete.\")\n",
        "\n",
        "# Predict on the validation set\n",
        "print(\"Predicting on validation set...\")\n",
        "validation_predictions_dt = decision_tree_model.predict(validation_combined)\n",
        "\n",
        "# Evaluate the model on the validation set\n",
        "print(\"\\nEvaluating Decision Tree model on validation set:\")\n",
        "accuracy_dt = accuracy_score(validation_labels_enc, validation_predictions_dt)\n",
        "print(f\"Validation Accuracy: {accuracy_dt:.4f}\")\n",
        "\n",
        "\n",
        "# Print classification report\n",
        "print(\"\\nClassification Report (Validation Set - Decision Tree):\")\n",
        "print(classification_report(validation_labels_enc, validation_predictions_dt, target_names=original_class_names))\n",
        "\n",
        "# Print confusion matrix\n",
        "print(\"\\nConfusion Matrix (Validation Set - Decision Tree):\")\n",
        "conf_matrix_dt = confusion_matrix(validation_labels_enc, validation_predictions_dt)\n",
        "print(conf_matrix_dt)\n",
        "\n",
        "\n",
        "# Evaluate on the test set after final model selection\n",
        "print(\"\\nPredicting on test set...\")\n",
        "test_predictions_dt = decision_tree_model.predict(test_combined)\n",
        "\n",
        "# Evaluate the model on the test set\n",
        "print(\"\\nEvaluating Decision Tree model on test set:\")\n",
        "accuracy_test_dt = accuracy_score(test_labels_enc, test_predictions_dt)\n",
        "print(f\"Test Accuracy: {accuracy_test_dt:.4f}\")\n",
        "\n",
        "# Print classification report for the test set\n",
        "print(\"\\nClassification Report (Test Set - Decision Tree):\")\n",
        "print(classification_report(test_labels_enc, test_predictions_dt, target_names=original_class_names))\n",
        "\n",
        "# Print confusion matrix for the test set\n",
        "print(\"\\nConfusion Matrix (Test Set - Decision Tree):\")\n",
        "conf_matrix_test_dt = confusion_matrix(test_labels_enc, test_predictions_dt)\n",
        "conf_matrix_test_dt"
      ],
      "metadata": {
        "colab": {
          "base_uri": "https://localhost:8080/"
        },
        "id": "16HXo08E1RLP",
        "outputId": "2e91d615-12c2-4d1e-b627-f67ffff29602"
      },
      "execution_count": 37,
      "outputs": [
        {
          "output_type": "stream",
          "name": "stdout",
          "text": [
            "Training Decision Tree model...\n",
            "Training complete.\n",
            "Predicting on validation set...\n",
            "\n",
            "Evaluating Decision Tree model on validation set:\n",
            "Validation Accuracy: 0.6744\n",
            "\n",
            "Classification Report (Validation Set - Decision Tree):\n",
            "              precision    recall  f1-score   support\n",
            "\n",
            "       akiec       0.23      0.23      0.23        57\n",
            "         bcc       0.29      0.28      0.29        72\n",
            "         bkl       0.41      0.46      0.43       164\n",
            "          df       0.12      0.19      0.14        16\n",
            "         mel       0.32      0.28      0.30       194\n",
            "          nv       0.85      0.85      0.85      1075\n",
            "        vasc       0.22      0.28      0.25        25\n",
            "\n",
            "    accuracy                           0.67      1603\n",
            "   macro avg       0.35      0.36      0.35      1603\n",
            "weighted avg       0.68      0.67      0.68      1603\n",
            "\n",
            "\n",
            "Confusion Matrix (Validation Set - Decision Tree):\n",
            "[[ 13  12  13   2   3  13   1]\n",
            " [ 11  20  11   3   6  19   2]\n",
            " [  7   8  75   4  22  43   5]\n",
            " [  0   2   6   3   0   4   1]\n",
            " [ 16   9  36   5  54  70   4]\n",
            " [ 10  15  39   8  82 909  12]\n",
            " [  0   2   4   1   0  11   7]]\n",
            "\n",
            "Predicting on test set...\n",
            "\n",
            "Evaluating Decision Tree model on test set:\n",
            "Test Accuracy: 0.6770\n",
            "\n",
            "Classification Report (Test Set - Decision Tree):\n",
            "              precision    recall  f1-score   support\n",
            "\n",
            "       akiec       0.23      0.27      0.24        67\n",
            "         bcc       0.30      0.26      0.28       104\n",
            "         bkl       0.41      0.42      0.41       224\n",
            "          df       0.09      0.12      0.10        26\n",
            "         mel       0.29      0.31      0.30       210\n",
            "          nv       0.87      0.85      0.86      1350\n",
            "        vasc       0.24      0.27      0.26        22\n",
            "\n",
            "    accuracy                           0.68      2003\n",
            "   macro avg       0.35      0.36      0.35      2003\n",
            "weighted avg       0.69      0.68      0.68      2003\n",
            "\n",
            "\n",
            "Confusion Matrix (Test Set - Decision Tree):\n"
          ]
        },
        {
          "output_type": "execute_result",
          "data": {
            "text/plain": [
              "array([[  18,   15,   12,    3,    5,   14,    0],\n",
              "       [  14,   27,   25,    6,   14,   17,    1],\n",
              "       [  13,    7,   94,    3,   46,   56,    5],\n",
              "       [   5,    2,    4,    3,    5,    7,    0],\n",
              "       [  12,   19,   32,    4,   66,   74,    3],\n",
              "       [  18,   19,   61,   13,   87, 1142,   10],\n",
              "       [   0,    1,    4,    0,    2,    9,    6]])"
            ]
          },
          "metadata": {},
          "execution_count": 37
        }
      ]
    },
    {
      "cell_type": "code",
      "source": [
        "# Image features\n",
        "\n",
        "from sklearn.tree import DecisionTreeClassifier\n",
        "from sklearn.metrics import accuracy_score, classification_report, confusion_matrix\n",
        "\n",
        "\n",
        "\n",
        "decision_tree_image_model = DecisionTreeClassifier(random_state=SEED)\n",
        "\n",
        "# Train the model using only the image features\n",
        "print(\"Training Decision Tree model using only image features...\")\n",
        "decision_tree_image_model.fit(train_images_pca, train_labels_encoded)\n",
        "print(\"Training complete.\")\n",
        "\n",
        "# Predict on the validation set using only image features\n",
        "print(\"Predicting on validation set using only image features...\")\n",
        "validation_predictions_dt_image = decision_tree_image_model.predict(validation_images_pca)\n",
        "\n",
        "# Evaluate the model on the validation set\n",
        "print(\"\\nEvaluating Decision Tree model on validation set (Image Features Only):\")\n",
        "accuracy_dt_image_val = accuracy_score(validation_labels_encoded, validation_predictions_dt_image)\n",
        "print(f\"Validation Accuracy (Image Only): {accuracy_dt_image_val:.4f}\")\n",
        "\n",
        "\n",
        "# Print classification report for validation set (Image Only)\n",
        "print(\"\\nClassification Report (Validation Set - Decision Tree - Image Only):\")\n",
        "print(classification_report(validation_labels_encoded, validation_predictions_dt_image, target_names=original_class_names))\n",
        "\n",
        "# Print confusion matrix for validation set (Image Only)\n",
        "print(\"\\nConfusion Matrix (Validation Set - Decision Tree - Image Only):\")\n",
        "conf_matrix_dt_image_val = confusion_matrix(validation_labels_encoded, validation_predictions_dt_image)\n",
        "print(conf_matrix_dt_image_val)\n",
        "\n",
        "\n",
        "# Evaluate on the test set after final model selection (Image Only)\n",
        "print(\"\\nPredicting on test set using only image features...\")\n",
        "test_predictions_dt_image = decision_tree_image_model.predict(test_images_pca)\n",
        "\n",
        "# Evaluate the model on the test set\n",
        "print(\"\\nEvaluating Decision Tree model on test set (Image Features Only):\")\n",
        "accuracy_dt_image_test = accuracy_score(test_labels_encoded, test_predictions_dt_image)\n",
        "print(f\"Test Accuracy (Image Only): {accuracy_dt_image_test:.4f}\")\n",
        "\n",
        "# Print classification report for the test set (Image Only)\n",
        "print(\"\\nClassification Report (Test Set - Decision Tree - Image Only):\")\n",
        "print(classification_report(test_labels_encoded, test_predictions_dt_image, target_names=original_class_names))\n",
        "\n",
        "# Print confusion matrix for the test set (Image Only)\n",
        "print(\"\\nConfusion Matrix (Test Set - Decision Tree - Image Only):\")\n",
        "conf_matrix_dt_image_test = confusion_matrix(test_labels_encoded, test_predictions_dt_image)\n",
        "conf_matrix_dt_image_test\n"
      ],
      "metadata": {
        "id": "k0gxZ94ChdTa"
      },
      "execution_count": null,
      "outputs": []
    },
    {
      "cell_type": "code",
      "source": [
        "# Decision Tree for Tabular Data Only\n",
        "\n",
        "decision_tree_tabular_model = DecisionTreeClassifier(random_state=SEED)\n",
        "\n",
        "# Train the model using only the tabular features\n",
        "print(\"Training Decision Tree model using only tabular features...\")\n",
        "decision_tree_tabular_model.fit(tabular_features_train, train_labels_enc)\n",
        "print(\"Training complete.\")\n",
        "\n",
        "# Predict on the validation set using only tabular features\n",
        "print(\"Predicting on validation set using only tabular features...\")\n",
        "validation_predictions_dt_tabular = decision_tree_tabular_model.predict(tabular_features_validation)\n",
        "\n",
        "# Evaluate the model on the validation set\n",
        "print(\"\\nEvaluating Decision Tree model on validation set (Tabular Features Only):\")\n",
        "accuracy_dt_tabular_val = accuracy_score(validation_labels_enc, validation_predictions_dt_tabular)\n",
        "print(f\"Validation Accuracy (Tabular Only): {accuracy_dt_tabular_val:.4f}\")\n",
        "\n",
        "# Get the original class names using the label encoder\n",
        "original_class_names = label_encoder.classes_\n",
        "\n",
        "# Print classification report for validation set (Tabular Only)\n",
        "print(\"\\nClassification Report (Validation Set - Decision Tree - Tabular Only):\")\n",
        "print(classification_report(validation_labels_enc, validation_predictions_dt_tabular, target_names=original_class_names))\n",
        "\n",
        "# Print confusion matrix for validation set (Tabular Only)\n",
        "print(\"\\nConfusion Matrix (Validation Set - Decision Tree - Tabular Only):\")\n",
        "conf_matrix_dt_tabular_val = confusion_matrix(validation_labels_enc, validation_predictions_dt_tabular)\n",
        "print(conf_matrix_dt_tabular_val)\n",
        "\n",
        "\n",
        "# Evaluate on the test set after final model selection (Tabular Only)\n",
        "print(\"\\nPredicting on test set using only tabular features...\")\n",
        "test_predictions_dt_tabular = decision_tree_tabular_model.predict(tabular_features_test)\n",
        "\n",
        "# Evaluate the model on the test set\n",
        "print(\"\\nEvaluating Decision Tree model on test set (Tabular Features Only):\")\n",
        "accuracy_dt_tabular_test = accuracy_score(test_labels_enc, test_predictions_dt_tabular)\n",
        "print(f\"Test Accuracy (Tabular Only): {accuracy_dt_tabular_test:.4f}\")\n",
        "\n",
        "# Print classification report for the test set (Tabular Only)\n",
        "print(\"\\nClassification Report (Test Set - Decision Tree - Tabular Only):\")\n",
        "print(classification_report(test_labels_enc, test_predictions_dt_tabular, target_names=original_class_names))\n",
        "\n",
        "# Print confusion matrix for the test set (Tabular Only)\n",
        "print(\"\\nConfusion Matrix (Test Set - Decision Tree - Tabular Only):\")\n",
        "conf_matrix_dt_tabular_test = confusion_matrix(test_labels_enc, test_predictions_dt_tabular)\n",
        "conf_matrix_dt_tabular_test\n"
      ],
      "metadata": {
        "colab": {
          "base_uri": "https://localhost:8080/"
        },
        "id": "aVuWGlyg2MJf",
        "outputId": "3a45050c-509b-4e4e-ff09-a3cc88720fc8"
      },
      "execution_count": 57,
      "outputs": [
        {
          "output_type": "stream",
          "name": "stdout",
          "text": [
            "Training Decision Tree model using only tabular features...\n",
            "Training complete.\n",
            "Predicting on validation set using only tabular features...\n",
            "\n",
            "Evaluating Decision Tree model on validation set (Tabular Features Only):\n",
            "Validation Accuracy (Tabular Only): 0.7193\n",
            "\n",
            "Classification Report (Validation Set - Decision Tree - Tabular Only):\n",
            "              precision    recall  f1-score   support\n",
            "\n",
            "       akiec       0.43      0.16      0.23        57\n",
            "         bcc       0.33      0.22      0.26        72\n",
            "         bkl       0.42      0.47      0.44       164\n",
            "          df       0.50      0.19      0.27        16\n",
            "         mel       0.38      0.31      0.34       194\n",
            "          nv       0.84      0.92      0.88      1075\n",
            "        vasc       0.29      0.16      0.21        25\n",
            "\n",
            "    accuracy                           0.72      1603\n",
            "   macro avg       0.45      0.35      0.38      1603\n",
            "weighted avg       0.69      0.72      0.70      1603\n",
            "\n",
            "\n",
            "Confusion Matrix (Validation Set - Decision Tree - Tabular Only):\n",
            "[[  9   3  17   0  11  17   0]\n",
            " [  0  16  13   0  18  25   0]\n",
            " [  7  11  77   3  20  40   6]\n",
            " [  0   0   2   3   2   9   0]\n",
            " [  5   7  36   0  60  86   0]\n",
            " [  0  11  28   0  48 984   4]\n",
            " [  0   1  11   0   1   8   4]]\n",
            "\n",
            "Predicting on test set using only tabular features...\n",
            "\n",
            "Evaluating Decision Tree model on test set (Tabular Features Only):\n",
            "Test Accuracy (Tabular Only): 0.7239\n",
            "\n",
            "Classification Report (Test Set - Decision Tree - Tabular Only):\n",
            "              precision    recall  f1-score   support\n",
            "\n",
            "       akiec       0.29      0.09      0.14        67\n",
            "         bcc       0.28      0.19      0.23       104\n",
            "         bkl       0.46      0.45      0.45       224\n",
            "          df       0.47      0.27      0.34        26\n",
            "         mel       0.31      0.29      0.30       210\n",
            "          nv       0.85      0.93      0.89      1350\n",
            "        vasc       0.56      0.23      0.32        22\n",
            "\n",
            "    accuracy                           0.72      2003\n",
            "   macro avg       0.46      0.35      0.38      2003\n",
            "weighted avg       0.69      0.72      0.70      2003\n",
            "\n",
            "\n",
            "Confusion Matrix (Test Set - Decision Tree - Tabular Only):\n"
          ]
        },
        {
          "output_type": "execute_result",
          "data": {
            "text/plain": [
              "array([[   6,   10,   17,    0,   15,   19,    0],\n",
              "       [   3,   20,   23,    0,   24,   34,    0],\n",
              "       [   8,   16,  100,    5,   37,   57,    1],\n",
              "       [   0,    0,    2,    7,    3,   14,    0],\n",
              "       [   3,   16,   37,    0,   60,   93,    1],\n",
              "       [   1,    9,   32,    3,   51, 1252,    2],\n",
              "       [   0,    1,    6,    0,    1,    9,    5]])"
            ]
          },
          "metadata": {},
          "execution_count": 57
        }
      ]
    },
    {
      "cell_type": "markdown",
      "source": [
        "Comparison"
      ],
      "metadata": {
        "id": "jctO1FvP2i94"
      }
    },
    {
      "cell_type": "code",
      "source": [
        "import seaborn as sns\n",
        "import matplotlib.pyplot as plt\n",
        "import pandas as pd\n",
        "\n",
        "model_names = ['Naive Bayes', 'KNN', 'Decision Tree']\n",
        "data_types = ['Tabular', 'Image', 'Combined']\n",
        "\n",
        "accuracies = {\n",
        "    'Tabular': [accuracy_tabular_test, accuracy_knn_tabular_test, accuracy_dt_tabular_test],\n",
        "    'Image': [accuracy_image_test, accuracy_knn_image_test, accuracy_dt_image_test],\n",
        "    'Combined': [accuracy_test, accuracy_knn_combined_test, accuracy_test_dt]\n",
        "}\n",
        "\n",
        "accuracy_df = pd.DataFrame(accuracies, index=model_names)\n",
        "\n",
        "print(\"Test Set Accuracies:\")\n",
        "print(accuracy_df)\n",
        "\n",
        "accuracy_melted = accuracy_df.reset_index().melt('index', var_name='Data Type', value_name='Accuracy')\n",
        "accuracy_melted = accuracy_melted.rename(columns={'index': 'Model'})\n",
        "\n",
        "plt.figure(figsize=(10, 6))\n",
        "sns.barplot(x='Model', y='Accuracy', hue='Data Type', data=accuracy_melted)\n",
        "plt.title('Comparison of Model Performance on Test Set (Accuracy)')\n",
        "plt.ylabel('Accuracy')\n",
        "plt.ylim(0, 1)\n",
        "plt.grid(axis='y', linestyle='--', alpha=0.7)\n",
        "plt.show()\n"
      ],
      "metadata": {
        "colab": {
          "base_uri": "https://localhost:8080/",
          "height": 656
        },
        "id": "cJA6kjfu2Tsx",
        "outputId": "311d2af3-da66-4e45-b33c-79f3067eb602"
      },
      "execution_count": 81,
      "outputs": [
        {
          "output_type": "stream",
          "name": "stdout",
          "text": [
            "Test Set Accuracies:\n",
            "                Tabular     Image  Combined\n",
            "Naive Bayes    0.425362  0.515726  0.496755\n",
            "KNN            0.701448  0.705941  0.707439\n",
            "Decision Tree  0.723914  0.597104  0.676985\n"
          ]
        },
        {
          "output_type": "display_data",
          "data": {
            "text/plain": [
              "<Figure size 1000x600 with 1 Axes>"
            ],
            "image/png": "[encoded data removed]"
          },
          "metadata": {}
        }
      ]
    },
    {
      "cell_type": "markdown",
      "source": [
        "# Extra Models"
      ],
      "metadata": {
        "id": "0NQVyLE30usr"
      }
    },
    {
      "cell_type": "markdown",
      "source": [
        "Bonus Model\n",
        "XGBOOST"
      ],
      "metadata": {
        "id": "8D7aqFczuaFv"
      }
    },
    {
      "cell_type": "code",
      "source": [
        "\n",
        "import numpy as np\n",
        "\n",
        "!pip install xgboost\n",
        "\n",
        "import xgboost as xgb\n",
        "from sklearn.metrics import accuracy_score, classification_report, confusion_matrix\n",
        "\n",
        "num_classes_encoded = len(np.unique(train_labels_enc))\n",
        "\n",
        "xgb_model = xgb.XGBClassifier(objective='multi:softmax',\n",
        "                              num_class=num_classes_encoded,\n",
        "                              eval_metric='merror',\n",
        "                              use_label_encoder=False,\n",
        "                              random_state=SEED)\n",
        "\n",
        "# Train the model on the combined training data\n",
        "print(\"Training XGBoost model...\")\n",
        "\n",
        "xgb_model.fit(train_combined, train_labels_enc,\n",
        "              eval_set=[(validation_combined, validation_labels_enc)],\n",
        "              verbose=False)\n",
        "\n",
        "print(\"Training complete.\")\n",
        "\n",
        "# Predict on the validation set\n",
        "print(\"Predicting on validation set...\")\n",
        "validation_predictions_xgb = xgb_model.predict(validation_combined)\n",
        "\n",
        "# Evaluate the model on the validation set\n",
        "print(\"\\nEvaluating XGBoost model on validation set:\")\n",
        "accuracy_xgb = accuracy_score(validation_labels_enc, validation_predictions_xgb)\n",
        "print(f\"Validation Accuracy: {accuracy_xgb:.4f}\")\n",
        "\n",
        "# Print classification report\n",
        "print(\"\\nClassification Report (Validation Set - XGBoost):\")\n",
        "print(classification_report(validation_labels_enc, validation_predictions_xgb, target_names=original_class_names))\n",
        "\n",
        "# Print confusion matrix\n",
        "print(\"\\nConfusion Matrix (Validation Set - XGBoost):\")\n",
        "conf_matrix_xgb = confusion_matrix(validation_labels_enc, validation_predictions_xgb)\n",
        "print(conf_matrix_xgb)\n",
        "\n",
        "\n",
        "# Evaluate on the test set after final model selection\n",
        "print(\"\\nPredicting on test set...\")\n",
        "test_predictions_xgb = xgb_model.predict(test_combined)\n",
        "\n",
        "# Evaluate the model on the test set\n",
        "print(\"\\nEvaluating XGBoost model on test set:\")\n",
        "accuracy_test_xgb = accuracy_score(test_labels_enc, test_predictions_xgb)\n",
        "print(f\"Test Accuracy: {accuracy_test_xgb:.4f}\")\n",
        "\n",
        "# Print classification report for the test set\n",
        "print(\"\\nClassification Report (Test Set - XGBoost):\")\n",
        "print(classification_report(test_labels_enc, test_predictions_xgb, target_names=original_class_names))\n",
        "\n",
        "# Print confusion matrix for the test set\n",
        "print(\"\\nConfusion Matrix (Test Set - XGBoost):\")\n",
        "conf_matrix_test_xgb = confusion_matrix(test_labels_enc, test_predictions_xgb)\n",
        "conf_matrix_test_xgb\n"
      ],
      "metadata": {
        "colab": {
          "base_uri": "https://localhost:8080/"
        },
        "id": "D5guovSb2r3u",
        "outputId": "6ec59c60-413b-4727-fcc0-0109977035ef"
      },
      "execution_count": null,
      "outputs": [
        {
          "output_type": "stream",
          "name": "stdout",
          "text": [
            "Requirement already satisfied: xgboost in /usr/local/lib/python3.11/dist-packages (2.1.4)\n",
            "Requirement already satisfied: numpy in /usr/local/lib/python3.11/dist-packages (from xgboost) (2.0.2)\n",
            "Requirement already satisfied: nvidia-nccl-cu12 in /usr/local/lib/python3.11/dist-packages (from xgboost) (2.21.5)\n",
            "Requirement already satisfied: scipy in /usr/local/lib/python3.11/dist-packages (from xgboost) (1.15.3)\n",
            "Training XGBoost model...\n",
            "Training complete.\n",
            "Predicting on validation set...\n",
            "\n",
            "Evaluating XGBoost model on validation set:\n",
            "Validation Accuracy: 0.7848\n",
            "\n",
            "Classification Report (Validation Set - XGBoost):\n",
            "              precision    recall  f1-score   support\n",
            "\n",
            "       akiec       0.54      0.26      0.35        57\n",
            "         bcc       0.46      0.39      0.42        72\n",
            "         bkl       0.58      0.54      0.56       164\n",
            "          df       1.00      0.19      0.32        16\n",
            "         mel       0.55      0.45      0.50       194\n",
            "          nv       0.86      0.96      0.91      1075\n",
            "        vasc       1.00      0.36      0.53        25\n",
            "\n",
            "    accuracy                           0.78      1603\n",
            "   macro avg       0.71      0.45      0.51      1603\n",
            "weighted avg       0.77      0.78      0.77      1603\n",
            "\n",
            "\n",
            "Confusion Matrix (Validation Set - XGBoost):\n",
            "[[  15   14   14    0    7    7    0]\n",
            " [   7   28   12    0    9   16    0]\n",
            " [   3    4   88    0   19   50    0]\n",
            " [   0    5    1    3    0    7    0]\n",
            " [   2    5   24    0   87   76    0]\n",
            " [   0    3    9    0   35 1028    0]\n",
            " [   1    2    4    0    0    9    9]]\n",
            "\n",
            "Predicting on test set...\n",
            "\n",
            "Evaluating XGBoost model on test set:\n",
            "Test Accuracy: 0.7893\n",
            "\n",
            "Classification Report (Test Set - XGBoost):\n",
            "              precision    recall  f1-score   support\n",
            "\n",
            "       akiec       0.41      0.25      0.31        67\n",
            "         bcc       0.65      0.49      0.56       104\n",
            "         bkl       0.59      0.52      0.56       224\n",
            "          df       0.67      0.23      0.34        26\n",
            "         mel       0.53      0.43      0.48       210\n",
            "          nv       0.86      0.96      0.91      1350\n",
            "        vasc       0.80      0.36      0.50        22\n",
            "\n",
            "    accuracy                           0.79      2003\n",
            "   macro avg       0.64      0.46      0.52      2003\n",
            "weighted avg       0.77      0.79      0.77      2003\n",
            "\n",
            "\n",
            "Confusion Matrix (Test Set - XGBoost):\n"
          ]
        },
        {
          "output_type": "execute_result",
          "data": {
            "text/plain": [
              "array([[  17,   13,   11,    0,   13,   13,    0],\n",
              "       [   6,   51,   21,    0,    7,   18,    1],\n",
              "       [   6,    6,  117,    2,   25,   68,    0],\n",
              "       [   3,    3,    3,    6,    3,    8,    0],\n",
              "       [   7,    2,   22,    0,   91,   88,    0],\n",
              "       [   2,    3,   20,    0,   33, 1291,    1],\n",
              "       [   0,    1,    3,    1,    0,    9,    8]])"
            ]
          },
          "metadata": {},
          "execution_count": 73
        }
      ]
    }
  ],
  "metadata": {
    "kernelspec": {
      "display_name": "Python 3 (ipykernel)",
      "language": "python",
      "name": "python3"
    },
    "language_info": {
      "codemirror_mode": {
        "name": "ipython",
        "version": 3
      },
      "file_extension": ".py",
      "mimetype": "text/x-python",
      "name": "python",
      "nbconvert_exporter": "python",
      "pygments_lexer": "ipython3",
      "version": "3.10.4"
    },
    "toc": {
      "base_numbering": 1,
      "nav_menu": {},
      "number_sections": false,
      "sideBar": true,
      "skip_h1_title": false,
      "title_cell": "Table of Contents",
      "title_sidebar": "Contents",
      "toc_cell": false,
      "toc_position": {
        "height": "calc(100% - 180px)",
        "left": "10px",
        "top": "150px",
        "width": "323px"
      },
      "toc_section_display": true,
      "toc_window_display": false
    },
    "vscode": {
      "interpreter": {
        "hash": "916dbcbb3f70747c44a77c7bcd40155683ae19c65e1c03b4aa3499c5328201f1"
      }
    },
    "colab": {
      "provenance": []
    }
  },
  "nbformat": 4,
  "nbformat_minor": 0
}